{
 "cells": [
  {
   "cell_type": "code",
   "execution_count": 2,
   "metadata": {},
   "outputs": [],
   "source": [
    "import pandas as pd\n",
    "import numpy as np\n",
    "import matplotlib.pyplot as plt\n",
    "import seaborn as sns ; sns.set()\n",
    "import scipy.stats as stats\n",
    "from matplotlib.ticker import PercentFormatter"
   ]
  },
  {
   "cell_type": "code",
   "execution_count": 3,
   "metadata": {
    "scrolled": false
   },
   "outputs": [
    {
     "data": {
      "text/html": [
       "<div>\n",
       "<style scoped>\n",
       "    .dataframe tbody tr th:only-of-type {\n",
       "        vertical-align: middle;\n",
       "    }\n",
       "\n",
       "    .dataframe tbody tr th {\n",
       "        vertical-align: top;\n",
       "    }\n",
       "\n",
       "    .dataframe thead th {\n",
       "        text-align: right;\n",
       "    }\n",
       "</style>\n",
       "<table border=\"1\" class=\"dataframe\">\n",
       "  <thead>\n",
       "    <tr style=\"text-align: right;\">\n",
       "      <th></th>\n",
       "      <th>IMDb ID</th>\n",
       "      <th>Title</th>\n",
       "      <th>Runtime (mins)</th>\n",
       "      <th>Year</th>\n",
       "      <th>Genres</th>\n",
       "      <th>Release Date</th>\n",
       "      <th>IMDb Rating</th>\n",
       "      <th>Metascore</th>\n",
       "      <th>Rating</th>\n",
       "      <th>Box Office</th>\n",
       "    </tr>\n",
       "  </thead>\n",
       "  <tbody>\n",
       "    <tr>\n",
       "      <th>0</th>\n",
       "      <td>tt1872181</td>\n",
       "      <td>The Amazing Spider-Man 2</td>\n",
       "      <td>142</td>\n",
       "      <td>2014</td>\n",
       "      <td>Action, Adventure, Sci-Fi</td>\n",
       "      <td>4/10/2014</td>\n",
       "      <td>6.6</td>\n",
       "      <td>53</td>\n",
       "      <td>PG-13</td>\n",
       "      <td>183277573</td>\n",
       "    </tr>\n",
       "    <tr>\n",
       "      <th>1</th>\n",
       "      <td>tt1323594</td>\n",
       "      <td>Despicable Me</td>\n",
       "      <td>95</td>\n",
       "      <td>2010</td>\n",
       "      <td>Animation, Comedy, Family, Fantasy</td>\n",
       "      <td>6/20/2010</td>\n",
       "      <td>7.7</td>\n",
       "      <td>72</td>\n",
       "      <td>PG</td>\n",
       "      <td>251476985</td>\n",
       "    </tr>\n",
       "    <tr>\n",
       "      <th>2</th>\n",
       "      <td>tt1375670</td>\n",
       "      <td>Grown Ups</td>\n",
       "      <td>102</td>\n",
       "      <td>2010</td>\n",
       "      <td>Comedy</td>\n",
       "      <td>6/24/2010</td>\n",
       "      <td>6.0</td>\n",
       "      <td>30</td>\n",
       "      <td>PG-13</td>\n",
       "      <td>162001186</td>\n",
       "    </tr>\n",
       "    <tr>\n",
       "      <th>3</th>\n",
       "      <td>tt0892769</td>\n",
       "      <td>How to Train Your Dragon</td>\n",
       "      <td>98</td>\n",
       "      <td>2010</td>\n",
       "      <td>Animation, Action, Adventure, Family, Fantasy</td>\n",
       "      <td>3/18/2010</td>\n",
       "      <td>8.1</td>\n",
       "      <td>74</td>\n",
       "      <td>PG</td>\n",
       "      <td>216900000</td>\n",
       "    </tr>\n",
       "    <tr>\n",
       "      <th>4</th>\n",
       "      <td>tt1375666</td>\n",
       "      <td>Inception</td>\n",
       "      <td>148</td>\n",
       "      <td>2010</td>\n",
       "      <td>Action, Adventure, Sci-Fi, Thriller</td>\n",
       "      <td>7/8/2010</td>\n",
       "      <td>8.8</td>\n",
       "      <td>74</td>\n",
       "      <td>PG-13</td>\n",
       "      <td>292568851</td>\n",
       "    </tr>\n",
       "  </tbody>\n",
       "</table>\n",
       "</div>"
      ],
      "text/plain": [
       "     IMDb ID                     Title  Runtime (mins)  Year  \\\n",
       "0  tt1872181  The Amazing Spider-Man 2             142  2014   \n",
       "1  tt1323594             Despicable Me              95  2010   \n",
       "2  tt1375670                 Grown Ups             102  2010   \n",
       "3  tt0892769  How to Train Your Dragon              98  2010   \n",
       "4  tt1375666                 Inception             148  2010   \n",
       "\n",
       "                                          Genres Release Date  IMDb Rating  \\\n",
       "0                      Action, Adventure, Sci-Fi    4/10/2014          6.6   \n",
       "1             Animation, Comedy, Family, Fantasy    6/20/2010          7.7   \n",
       "2                                         Comedy    6/24/2010          6.0   \n",
       "3  Animation, Action, Adventure, Family, Fantasy    3/18/2010          8.1   \n",
       "4            Action, Adventure, Sci-Fi, Thriller     7/8/2010          8.8   \n",
       "\n",
       "   Metascore Rating  Box Office  \n",
       "0         53  PG-13   183277573  \n",
       "1         72     PG   251476985  \n",
       "2         30  PG-13   162001186  \n",
       "3         74     PG   216900000  \n",
       "4         74  PG-13   292568851  "
      ]
     },
     "execution_count": 3,
     "metadata": {},
     "output_type": "execute_result"
    }
   ],
   "source": [
    "# File to Load\n",
    "movie_data = \"Movie_Data.csv\"\n",
    "\n",
    "# Read the Movie Data\n",
    "movie = pd.read_csv('Movie_Data.csv')\n",
    "\n",
    "# Display the data table for preview\n",
    "movie.head()"
   ]
  },
  {
   "cell_type": "code",
   "execution_count": 4,
   "metadata": {
    "scrolled": false
   },
   "outputs": [
    {
     "data": {
      "text/html": [
       "<div>\n",
       "<style scoped>\n",
       "    .dataframe tbody tr th:only-of-type {\n",
       "        vertical-align: middle;\n",
       "    }\n",
       "\n",
       "    .dataframe tbody tr th {\n",
       "        vertical-align: top;\n",
       "    }\n",
       "\n",
       "    .dataframe thead th {\n",
       "        text-align: right;\n",
       "    }\n",
       "</style>\n",
       "<table border=\"1\" class=\"dataframe\">\n",
       "  <thead>\n",
       "    <tr style=\"text-align: right;\">\n",
       "      <th></th>\n",
       "      <th>Genres</th>\n",
       "      <th>Box Office</th>\n",
       "      <th>Year</th>\n",
       "    </tr>\n",
       "  </thead>\n",
       "  <tbody>\n",
       "    <tr>\n",
       "      <th>0</th>\n",
       "      <td>Action, Adventure, Sci-Fi</td>\n",
       "      <td>183277573</td>\n",
       "      <td>2014</td>\n",
       "    </tr>\n",
       "    <tr>\n",
       "      <th>1</th>\n",
       "      <td>Animation, Comedy, Family, Fantasy</td>\n",
       "      <td>251476985</td>\n",
       "      <td>2010</td>\n",
       "    </tr>\n",
       "    <tr>\n",
       "      <th>2</th>\n",
       "      <td>Comedy</td>\n",
       "      <td>162001186</td>\n",
       "      <td>2010</td>\n",
       "    </tr>\n",
       "    <tr>\n",
       "      <th>3</th>\n",
       "      <td>Animation, Action, Adventure, Family, Fantasy</td>\n",
       "      <td>216900000</td>\n",
       "      <td>2010</td>\n",
       "    </tr>\n",
       "    <tr>\n",
       "      <th>4</th>\n",
       "      <td>Action, Adventure, Sci-Fi, Thriller</td>\n",
       "      <td>292568851</td>\n",
       "      <td>2010</td>\n",
       "    </tr>\n",
       "  </tbody>\n",
       "</table>\n",
       "</div>"
      ],
      "text/plain": [
       "                                          Genres  Box Office  Year\n",
       "0                      Action, Adventure, Sci-Fi   183277573  2014\n",
       "1             Animation, Comedy, Family, Fantasy   251476985  2010\n",
       "2                                         Comedy   162001186  2010\n",
       "3  Animation, Action, Adventure, Family, Fantasy   216900000  2010\n",
       "4            Action, Adventure, Sci-Fi, Thriller   292568851  2010"
      ]
     },
     "execution_count": 4,
     "metadata": {},
     "output_type": "execute_result"
    }
   ],
   "source": [
    "#Extract relevant columns\n",
    "movie = movie[['Genres', 'Box Office', 'Year']]\n",
    "movie.head()"
   ]
  },
  {
   "cell_type": "code",
   "execution_count": 5,
   "metadata": {},
   "outputs": [],
   "source": [
    "genre_set = set()\n",
    "for row in movie['Genres'].str.split(\", \"):\n",
    "    for genre in row:\n",
    "        if genre not in genre_set:\n",
    "            genre_set.add(genre)\n",
    "    "
   ]
  },
  {
   "cell_type": "code",
   "execution_count": 6,
   "metadata": {
    "scrolled": false
   },
   "outputs": [],
   "source": [
    "genre_set = list(genre_set)"
   ]
  },
  {
   "cell_type": "code",
   "execution_count": 7,
   "metadata": {
    "scrolled": true
   },
   "outputs": [],
   "source": [
    "# Create a list \n",
    "averages_list = []\n",
    "for genre in genre_set:\n",
    "    mask = movie[\"Genres\"].str.contains(f'{genre}')==True\n",
    "    avg = movie[mask][\"Box Office\"].mean()\n",
    "    averages_list.append(avg)   "
   ]
  },
  {
   "cell_type": "code",
   "execution_count": 8,
   "metadata": {
    "scrolled": true
   },
   "outputs": [
    {
     "data": {
      "text/plain": [
       "[113.4111595549133,\n",
       " 122.88188585526316,\n",
       " 138.4912569032258,\n",
       " 95.066479,\n",
       " 42.21486465384615,\n",
       " 22.54826979761905,\n",
       " 29.383784037313433,\n",
       " 35.24443222767857,\n",
       " 42.86875228703704,\n",
       " 2.98926508,\n",
       " 26.34676623214286,\n",
       " 111.68704716666667,\n",
       " 51.67360983636364,\n",
       " 46.52079175884245,\n",
       " 115.78014762727273,\n",
       " 129.59390039215688,\n",
       " 35.3096476626506,\n",
       " 25.05508141860465,\n",
       " 52.621246884514434,\n",
       " 57.635095642857145,\n",
       " 0.061153,\n",
       " 61.16326675]"
      ]
     },
     "execution_count": 8,
     "metadata": {},
     "output_type": "execute_result"
    }
   ],
   "source": [
    "# Covert Box Office to millions\n",
    "averages_list = [x/1000000 for x in averages_list]\n",
    "averages_list"
   ]
  },
  {
   "cell_type": "code",
   "execution_count": 9,
   "metadata": {},
   "outputs": [
    {
     "data": {
      "text/plain": [
       "['Fantasy',\n",
       " 'Sci-Fi',\n",
       " 'Animation',\n",
       " 'Action',\n",
       " 'Sport',\n",
       " 'Biography',\n",
       " 'Drama',\n",
       " 'Romance',\n",
       " 'Mystery',\n",
       " 'Documentary',\n",
       " 'Horror',\n",
       " 'Musical',\n",
       " 'Music',\n",
       " 'Thriller',\n",
       " 'Family',\n",
       " 'Adventure',\n",
       " 'Crime',\n",
       " 'History',\n",
       " 'Comedy',\n",
       " 'Western',\n",
       " 'News',\n",
       " 'War']"
      ]
     },
     "execution_count": 9,
     "metadata": {},
     "output_type": "execute_result"
    }
   ],
   "source": [
    "# Show Genres\n",
    "genre_set"
   ]
  },
  {
   "cell_type": "code",
   "execution_count": 10,
   "metadata": {
    "scrolled": true
   },
   "outputs": [
    {
     "data": {
      "image/png": "[encoded data removed]",
      "text/plain": [
       "<Figure size 432x288 with 1 Axes>"
      ]
     },
     "metadata": {
      "needs_background": "light"
     },
     "output_type": "display_data"
    }
   ],
   "source": [
    "# Bar Chart to identify top Genres\n",
    "sns.barplot(genre_set, averages_list)\n",
    "sns.despine()\n",
    "plt.xticks(rotation=90);\n",
    "\n",
    "# Add labels to the x and y axes\n",
    "plt.title(\"Top Genres in Box Office\")\n",
    "plt.xlabel(\"Genres\")\n",
    "plt.ylabel(\"Average Box Office (in millions)\")\n",
    "\n",
    "# Set your grid\n",
    "plt.grid()\n",
    "\n",
    "# Save the plot and display it\n",
    "plt.savefig(\"Top_Genres.png\")\n",
    "\n",
    "# Show figure\n",
    "plt.show()"
   ]
  },
  {
   "cell_type": "code",
   "execution_count": 11,
   "metadata": {},
   "outputs": [
    {
     "data": {
      "text/html": [
       "<div>\n",
       "<style scoped>\n",
       "    .dataframe tbody tr th:only-of-type {\n",
       "        vertical-align: middle;\n",
       "    }\n",
       "\n",
       "    .dataframe tbody tr th {\n",
       "        vertical-align: top;\n",
       "    }\n",
       "\n",
       "    .dataframe thead th {\n",
       "        text-align: right;\n",
       "    }\n",
       "</style>\n",
       "<table border=\"1\" class=\"dataframe\">\n",
       "  <thead>\n",
       "    <tr style=\"text-align: right;\">\n",
       "      <th></th>\n",
       "      <th>Genres</th>\n",
       "      <th>Box Office</th>\n",
       "      <th>Year</th>\n",
       "    </tr>\n",
       "  </thead>\n",
       "  <tbody>\n",
       "    <tr>\n",
       "      <th>1</th>\n",
       "      <td>Animation, Comedy, Family, Fantasy</td>\n",
       "      <td>251476985</td>\n",
       "      <td>2010</td>\n",
       "    </tr>\n",
       "    <tr>\n",
       "      <th>3</th>\n",
       "      <td>Animation, Action, Adventure, Family, Fantasy</td>\n",
       "      <td>216900000</td>\n",
       "      <td>2010</td>\n",
       "    </tr>\n",
       "    <tr>\n",
       "      <th>10</th>\n",
       "      <td>Animation, Adventure, Comedy, Family, Fantasy</td>\n",
       "      <td>414984497</td>\n",
       "      <td>2010</td>\n",
       "    </tr>\n",
       "    <tr>\n",
       "      <th>26</th>\n",
       "      <td>Animation, Adventure, Comedy, Family, Fantasy</td>\n",
       "      <td>237282182</td>\n",
       "      <td>2012</td>\n",
       "    </tr>\n",
       "    <tr>\n",
       "      <th>40</th>\n",
       "      <td>Animation, Comedy, Family, Fantasy</td>\n",
       "      <td>148280635</td>\n",
       "      <td>2012</td>\n",
       "    </tr>\n",
       "  </tbody>\n",
       "</table>\n",
       "</div>"
      ],
      "text/plain": [
       "                                           Genres  Box Office  Year\n",
       "1              Animation, Comedy, Family, Fantasy   251476985  2010\n",
       "3   Animation, Action, Adventure, Family, Fantasy   216900000  2010\n",
       "10  Animation, Adventure, Comedy, Family, Fantasy   414984497  2010\n",
       "26  Animation, Adventure, Comedy, Family, Fantasy   237282182  2012\n",
       "40             Animation, Comedy, Family, Fantasy   148280635  2012"
      ]
     },
     "execution_count": 11,
     "metadata": {},
     "output_type": "execute_result"
    }
   ],
   "source": [
    "#Plot changes over time with a Line graph\n",
    "\n",
    "Animation = movie[movie[\"Genres\"].str.contains(\"Animation\")]\n",
    "\n",
    "Animation.head()"
   ]
  },
  {
   "cell_type": "code",
   "execution_count": 12,
   "metadata": {},
   "outputs": [],
   "source": [
    "animation2010 = Animation[\"Box Office\"][Animation[\"Year\"] == 2010].mean()\n",
    "animation2011 = Animation[\"Box Office\"][Animation[\"Year\"] == 2011].mean()\n",
    "animation2012 = Animation[\"Box Office\"][Animation[\"Year\"] == 2012].mean()\n",
    "animation2013 = Animation[\"Box Office\"][Animation[\"Year\"] == 2013].mean()\n",
    "animation2014 = Animation[\"Box Office\"][Animation[\"Year\"] == 2014].mean()\n",
    "animation2015 = Animation[\"Box Office\"][Animation[\"Year\"] == 2015].mean()\n",
    "animation2016 = Animation[\"Box Office\"][Animation[\"Year\"] == 2016].mean()"
   ]
  },
  {
   "cell_type": "code",
   "execution_count": 13,
   "metadata": {},
   "outputs": [
    {
     "data": {
      "text/html": [
       "<div>\n",
       "<style scoped>\n",
       "    .dataframe tbody tr th:only-of-type {\n",
       "        vertical-align: middle;\n",
       "    }\n",
       "\n",
       "    .dataframe tbody tr th {\n",
       "        vertical-align: top;\n",
       "    }\n",
       "\n",
       "    .dataframe thead th {\n",
       "        text-align: right;\n",
       "    }\n",
       "</style>\n",
       "<table border=\"1\" class=\"dataframe\">\n",
       "  <thead>\n",
       "    <tr style=\"text-align: right;\">\n",
       "      <th></th>\n",
       "      <th>Genres</th>\n",
       "      <th>Box Office</th>\n",
       "      <th>Year</th>\n",
       "    </tr>\n",
       "  </thead>\n",
       "  <tbody>\n",
       "    <tr>\n",
       "      <th>0</th>\n",
       "      <td>Action, Adventure, Sci-Fi</td>\n",
       "      <td>183277573</td>\n",
       "      <td>2014</td>\n",
       "    </tr>\n",
       "    <tr>\n",
       "      <th>3</th>\n",
       "      <td>Animation, Action, Adventure, Family, Fantasy</td>\n",
       "      <td>216900000</td>\n",
       "      <td>2010</td>\n",
       "    </tr>\n",
       "    <tr>\n",
       "      <th>4</th>\n",
       "      <td>Action, Adventure, Sci-Fi, Thriller</td>\n",
       "      <td>292568851</td>\n",
       "      <td>2010</td>\n",
       "    </tr>\n",
       "    <tr>\n",
       "      <th>5</th>\n",
       "      <td>Action, Adventure, Sci-Fi</td>\n",
       "      <td>312057433</td>\n",
       "      <td>2010</td>\n",
       "    </tr>\n",
       "    <tr>\n",
       "      <th>9</th>\n",
       "      <td>Action, Adventure, Fantasy, Sci-Fi</td>\n",
       "      <td>172051787</td>\n",
       "      <td>2010</td>\n",
       "    </tr>\n",
       "  </tbody>\n",
       "</table>\n",
       "</div>"
      ],
      "text/plain": [
       "                                          Genres  Box Office  Year\n",
       "0                      Action, Adventure, Sci-Fi   183277573  2014\n",
       "3  Animation, Action, Adventure, Family, Fantasy   216900000  2010\n",
       "4            Action, Adventure, Sci-Fi, Thriller   292568851  2010\n",
       "5                      Action, Adventure, Sci-Fi   312057433  2010\n",
       "9             Action, Adventure, Fantasy, Sci-Fi   172051787  2010"
      ]
     },
     "execution_count": 13,
     "metadata": {},
     "output_type": "execute_result"
    }
   ],
   "source": [
    "Adventure = movie[movie[\"Genres\"].str.contains(\"Adventure\")]\n",
    "\n",
    "Adventure.head()"
   ]
  },
  {
   "cell_type": "code",
   "execution_count": 14,
   "metadata": {},
   "outputs": [],
   "source": [
    "adventure2010 = Adventure[\"Box Office\"][Adventure[\"Year\"] == 2010].mean()\n",
    "adventure2011 = Adventure[\"Box Office\"][Adventure[\"Year\"] == 2011].mean()\n",
    "adventure2012 = Adventure[\"Box Office\"][Adventure[\"Year\"] == 2012].mean()\n",
    "adventure2013 = Adventure[\"Box Office\"][Adventure[\"Year\"] == 2013].mean()\n",
    "adventure2014 = Adventure[\"Box Office\"][Adventure[\"Year\"] == 2014].mean()\n",
    "adventure2015 = Adventure[\"Box Office\"][Adventure[\"Year\"] == 2015].mean()\n",
    "adventure2016 = Adventure[\"Box Office\"][Adventure[\"Year\"] == 2016].mean()"
   ]
  },
  {
   "cell_type": "code",
   "execution_count": 15,
   "metadata": {},
   "outputs": [
    {
     "data": {
      "text/html": [
       "<div>\n",
       "<style scoped>\n",
       "    .dataframe tbody tr th:only-of-type {\n",
       "        vertical-align: middle;\n",
       "    }\n",
       "\n",
       "    .dataframe tbody tr th {\n",
       "        vertical-align: top;\n",
       "    }\n",
       "\n",
       "    .dataframe thead th {\n",
       "        text-align: right;\n",
       "    }\n",
       "</style>\n",
       "<table border=\"1\" class=\"dataframe\">\n",
       "  <thead>\n",
       "    <tr style=\"text-align: right;\">\n",
       "      <th></th>\n",
       "      <th>Genres</th>\n",
       "      <th>Box Office</th>\n",
       "      <th>Year</th>\n",
       "    </tr>\n",
       "  </thead>\n",
       "  <tbody>\n",
       "    <tr>\n",
       "      <th>0</th>\n",
       "      <td>Action, Adventure, Sci-Fi</td>\n",
       "      <td>183277573</td>\n",
       "      <td>2014</td>\n",
       "    </tr>\n",
       "    <tr>\n",
       "      <th>4</th>\n",
       "      <td>Action, Adventure, Sci-Fi, Thriller</td>\n",
       "      <td>292568851</td>\n",
       "      <td>2010</td>\n",
       "    </tr>\n",
       "    <tr>\n",
       "      <th>5</th>\n",
       "      <td>Action, Adventure, Sci-Fi</td>\n",
       "      <td>312057433</td>\n",
       "      <td>2010</td>\n",
       "    </tr>\n",
       "    <tr>\n",
       "      <th>9</th>\n",
       "      <td>Action, Adventure, Fantasy, Sci-Fi</td>\n",
       "      <td>172051787</td>\n",
       "      <td>2010</td>\n",
       "    </tr>\n",
       "    <tr>\n",
       "      <th>14</th>\n",
       "      <td>Mystery, Sci-Fi, Thriller</td>\n",
       "      <td>79230923</td>\n",
       "      <td>2011</td>\n",
       "    </tr>\n",
       "  </tbody>\n",
       "</table>\n",
       "</div>"
      ],
      "text/plain": [
       "                                 Genres  Box Office  Year\n",
       "0             Action, Adventure, Sci-Fi   183277573  2014\n",
       "4   Action, Adventure, Sci-Fi, Thriller   292568851  2010\n",
       "5             Action, Adventure, Sci-Fi   312057433  2010\n",
       "9    Action, Adventure, Fantasy, Sci-Fi   172051787  2010\n",
       "14            Mystery, Sci-Fi, Thriller    79230923  2011"
      ]
     },
     "execution_count": 15,
     "metadata": {},
     "output_type": "execute_result"
    }
   ],
   "source": [
    "SciFi = movie[movie[\"Genres\"].str.contains(\"Sci-Fi\")]\n",
    "\n",
    "SciFi.head()"
   ]
  },
  {
   "cell_type": "code",
   "execution_count": 16,
   "metadata": {},
   "outputs": [],
   "source": [
    "scifi2010 = SciFi[\"Box Office\"][SciFi[\"Year\"] == 2010].mean()\n",
    "scifi2011 = SciFi[\"Box Office\"][SciFi[\"Year\"] == 2011].mean()\n",
    "scifi2012 = SciFi[\"Box Office\"][SciFi[\"Year\"] == 2012].mean()\n",
    "scifi2013 = SciFi[\"Box Office\"][SciFi[\"Year\"] == 2013].mean()\n",
    "scifi2014 = SciFi[\"Box Office\"][SciFi[\"Year\"] == 2014].mean()\n",
    "scifi2015 = SciFi[\"Box Office\"][SciFi[\"Year\"] == 2016].mean()\n",
    "scifi2016 = SciFi[\"Box Office\"][SciFi[\"Year\"] == 2016].mean()"
   ]
  },
  {
   "cell_type": "code",
   "execution_count": 17,
   "metadata": {},
   "outputs": [
    {
     "data": {
      "text/html": [
       "<div>\n",
       "<style scoped>\n",
       "    .dataframe tbody tr th:only-of-type {\n",
       "        vertical-align: middle;\n",
       "    }\n",
       "\n",
       "    .dataframe tbody tr th {\n",
       "        vertical-align: top;\n",
       "    }\n",
       "\n",
       "    .dataframe thead th {\n",
       "        text-align: right;\n",
       "    }\n",
       "</style>\n",
       "<table border=\"1\" class=\"dataframe\">\n",
       "  <thead>\n",
       "    <tr style=\"text-align: right;\">\n",
       "      <th></th>\n",
       "      <th>Genres</th>\n",
       "      <th>Box Office</th>\n",
       "      <th>Year</th>\n",
       "    </tr>\n",
       "  </thead>\n",
       "  <tbody>\n",
       "    <tr>\n",
       "      <th>1</th>\n",
       "      <td>Animation, Comedy, Family, Fantasy</td>\n",
       "      <td>251476985</td>\n",
       "      <td>2010</td>\n",
       "    </tr>\n",
       "    <tr>\n",
       "      <th>3</th>\n",
       "      <td>Animation, Action, Adventure, Family, Fantasy</td>\n",
       "      <td>216900000</td>\n",
       "      <td>2010</td>\n",
       "    </tr>\n",
       "    <tr>\n",
       "      <th>10</th>\n",
       "      <td>Animation, Adventure, Comedy, Family, Fantasy</td>\n",
       "      <td>414984497</td>\n",
       "      <td>2010</td>\n",
       "    </tr>\n",
       "    <tr>\n",
       "      <th>26</th>\n",
       "      <td>Animation, Adventure, Comedy, Family, Fantasy</td>\n",
       "      <td>237282182</td>\n",
       "      <td>2012</td>\n",
       "    </tr>\n",
       "    <tr>\n",
       "      <th>39</th>\n",
       "      <td>Adventure, Family, Fantasy</td>\n",
       "      <td>303001229</td>\n",
       "      <td>2012</td>\n",
       "    </tr>\n",
       "  </tbody>\n",
       "</table>\n",
       "</div>"
      ],
      "text/plain": [
       "                                           Genres  Box Office  Year\n",
       "1              Animation, Comedy, Family, Fantasy   251476985  2010\n",
       "3   Animation, Action, Adventure, Family, Fantasy   216900000  2010\n",
       "10  Animation, Adventure, Comedy, Family, Fantasy   414984497  2010\n",
       "26  Animation, Adventure, Comedy, Family, Fantasy   237282182  2012\n",
       "39                     Adventure, Family, Fantasy   303001229  2012"
      ]
     },
     "execution_count": 17,
     "metadata": {},
     "output_type": "execute_result"
    }
   ],
   "source": [
    "Family = movie[movie[\"Genres\"].str.contains(\"Family\")]\n",
    "\n",
    "Family.head()"
   ]
  },
  {
   "cell_type": "code",
   "execution_count": 18,
   "metadata": {},
   "outputs": [],
   "source": [
    "family2010 = Family[\"Box Office\"][Family[\"Year\"] == 2010].mean()\n",
    "family2011 = Family[\"Box Office\"][Family[\"Year\"] == 2011].mean()\n",
    "family2012 = Family[\"Box Office\"][Family[\"Year\"] == 2012].mean()\n",
    "family2013 = Family[\"Box Office\"][Family[\"Year\"] == 2013].mean()\n",
    "family2014 = Family[\"Box Office\"][Family[\"Year\"] == 2014].mean()\n",
    "family2015 = Family[\"Box Office\"][Family[\"Year\"] == 2016].mean()\n",
    "family2016 = Family[\"Box Office\"][Family[\"Year\"] == 2016].mean()"
   ]
  },
  {
   "cell_type": "code",
   "execution_count": 19,
   "metadata": {},
   "outputs": [],
   "source": [
    "Years = ['2010', '2011', '2012', '2013', '2014', '2015', '2016']\n",
    "animation_list = [animation2010, animation2011, animation2012, animation2013, animation2014, animation2015, animation2016]\n",
    "adventure_list = [adventure2010, adventure2011, adventure2012, adventure2013, adventure2014, adventure2015, adventure2016]\n",
    "scifi_list = [scifi2010, scifi2011, scifi2012, scifi2013, scifi2014, scifi2015, scifi2016]\n",
    "family_list = [family2010, family2011, family2012, family2013, family2014, family2015, family2016]"
   ]
  },
  {
   "cell_type": "code",
   "execution_count": 20,
   "metadata": {
    "scrolled": false
   },
   "outputs": [
    {
     "data": {
      "image/png": "[encoded data removed]",
      "text/plain": [
       "<Figure size 432x288 with 1 Axes>"
      ]
     },
     "metadata": {
      "needs_background": "light"
     },
     "output_type": "display_data"
    }
   ],
   "source": [
    "# Line chart to identify top Genres over Years\n",
    "sns.lineplot(x= Years, y= animation_list, label = \"Animation\")\n",
    "sns.lineplot(x= Years, y=adventure_list, label = \"Adventure\")\n",
    "sns.lineplot(x= Years, y=scifi_list, label = \"Sci-Fi\")\n",
    "sns.lineplot(x= Years, y=family_list, label = \"Family\")\n",
    "\n",
    "# Add labels to the x and y axes\n",
    "plt.title(\"Top Genres in Box Office from 2010 to 2016\")\n",
    "plt.xlabel(\"Year\")\n",
    "plt.ylabel(\"Average Box Office (in millions)\")\n",
    "\n",
    "# Set your grid\n",
    "plt.grid()\n",
    "\n",
    "# Save the plot and display it\n",
    "plt.savefig(\"Top_Genres_Years.png\")\n",
    "\n",
    "# Show figure\n",
    "plt.show()"
   ]
  },
  {
   "cell_type": "markdown",
   "metadata": {},
   "source": [
    "## Observations"
   ]
  },
  {
   "cell_type": "markdown",
   "metadata": {},
   "source": [
    "   1) The top four genres based on box office revenue were animation, adventure, sci-fi, and fantasy. \n",
    "   \n",
    "   2) Animation has the lowest box office revenue in 2015 compared to the other top genres. \n",
    "   \n",
    "   3) Family genre has the lowest box office revenue compared to the other top genres, but it did had a gradual      incline in revenue over the years. "
   ]
  },
  {
   "cell_type": "markdown",
   "metadata": {},
   "source": [
    "## Highlight "
   ]
  },
  {
   "cell_type": "markdown",
   "metadata": {},
   "source": [
    " Althought animation was the top genre with the highest box office revenue between 2010 to 2016, it had a lowest box office revenue in 2015 compared to the other top genres. \n"
   ]
  },
  {
   "cell_type": "code",
   "execution_count": null,
   "metadata": {},
   "outputs": [],
   "source": []
  }
 ],
 "metadata": {
  "kernelspec": {
   "display_name": "Python [conda env:py36]",
   "language": "python",
   "name": "conda-env-py36-py"
  }
 },
 "nbformat": 4,
 "nbformat_minor": 2
}
