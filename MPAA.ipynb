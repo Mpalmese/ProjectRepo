{
 "cells": [
  {
   "cell_type": "markdown",
   "metadata": {},
   "source": [
    "# Does MPAA rating effect the box office?"
   ]
  },
  {
   "cell_type": "code",
   "execution_count": 1,
   "metadata": {},
   "outputs": [],
   "source": [
    "#Import dependencies\n",
    "%matplotlib inline\n",
    "import pandas as pd\n",
    "import matplotlib.pyplot as plt\n",
    "import numpy as np\n",
    "import scipy.stats as stats"
   ]
  },
  {
   "cell_type": "code",
   "execution_count": 2,
   "metadata": {},
   "outputs": [
    {
     "data": {
      "text/html": [
       "<div>\n",
       "<style scoped>\n",
       "    .dataframe tbody tr th:only-of-type {\n",
       "        vertical-align: middle;\n",
       "    }\n",
       "\n",
       "    .dataframe tbody tr th {\n",
       "        vertical-align: top;\n",
       "    }\n",
       "\n",
       "    .dataframe thead th {\n",
       "        text-align: right;\n",
       "    }\n",
       "</style>\n",
       "<table border=\"1\" class=\"dataframe\">\n",
       "  <thead>\n",
       "    <tr style=\"text-align: right;\">\n",
       "      <th></th>\n",
       "      <th>IMDb ID</th>\n",
       "      <th>Title</th>\n",
       "      <th>Runtime (mins)</th>\n",
       "      <th>Year</th>\n",
       "      <th>Genres</th>\n",
       "      <th>Release Date</th>\n",
       "      <th>IMDb Rating</th>\n",
       "      <th>Metascore</th>\n",
       "      <th>Rating</th>\n",
       "      <th>Box Office</th>\n",
       "    </tr>\n",
       "  </thead>\n",
       "  <tbody>\n",
       "    <tr>\n",
       "      <th>0</th>\n",
       "      <td>tt1872181</td>\n",
       "      <td>The Amazing Spider-Man 2</td>\n",
       "      <td>142</td>\n",
       "      <td>2014</td>\n",
       "      <td>Action, Adventure, Sci-Fi</td>\n",
       "      <td>4/10/2014</td>\n",
       "      <td>6.6</td>\n",
       "      <td>53</td>\n",
       "      <td>PG-13</td>\n",
       "      <td>183277573</td>\n",
       "    </tr>\n",
       "    <tr>\n",
       "      <th>1</th>\n",
       "      <td>tt1323594</td>\n",
       "      <td>Despicable Me</td>\n",
       "      <td>95</td>\n",
       "      <td>2010</td>\n",
       "      <td>Animation, Comedy, Family, Fantasy</td>\n",
       "      <td>6/20/2010</td>\n",
       "      <td>7.7</td>\n",
       "      <td>72</td>\n",
       "      <td>PG</td>\n",
       "      <td>251476985</td>\n",
       "    </tr>\n",
       "    <tr>\n",
       "      <th>2</th>\n",
       "      <td>tt1375670</td>\n",
       "      <td>Grown Ups</td>\n",
       "      <td>102</td>\n",
       "      <td>2010</td>\n",
       "      <td>Comedy</td>\n",
       "      <td>6/24/2010</td>\n",
       "      <td>6.0</td>\n",
       "      <td>30</td>\n",
       "      <td>PG-13</td>\n",
       "      <td>162001186</td>\n",
       "    </tr>\n",
       "    <tr>\n",
       "      <th>3</th>\n",
       "      <td>tt0892769</td>\n",
       "      <td>How to Train Your Dragon</td>\n",
       "      <td>98</td>\n",
       "      <td>2010</td>\n",
       "      <td>Animation, Action, Adventure, Family, Fantasy</td>\n",
       "      <td>3/18/2010</td>\n",
       "      <td>8.1</td>\n",
       "      <td>74</td>\n",
       "      <td>PG</td>\n",
       "      <td>216900000</td>\n",
       "    </tr>\n",
       "    <tr>\n",
       "      <th>4</th>\n",
       "      <td>tt1375666</td>\n",
       "      <td>Inception</td>\n",
       "      <td>148</td>\n",
       "      <td>2010</td>\n",
       "      <td>Action, Adventure, Sci-Fi, Thriller</td>\n",
       "      <td>7/8/2010</td>\n",
       "      <td>8.8</td>\n",
       "      <td>74</td>\n",
       "      <td>PG-13</td>\n",
       "      <td>292568851</td>\n",
       "    </tr>\n",
       "  </tbody>\n",
       "</table>\n",
       "</div>"
      ],
      "text/plain": [
       "     IMDb ID                     Title  Runtime (mins)  Year  \\\n",
       "0  tt1872181  The Amazing Spider-Man 2             142  2014   \n",
       "1  tt1323594             Despicable Me              95  2010   \n",
       "2  tt1375670                 Grown Ups             102  2010   \n",
       "3  tt0892769  How to Train Your Dragon              98  2010   \n",
       "4  tt1375666                 Inception             148  2010   \n",
       "\n",
       "                                          Genres Release Date  IMDb Rating  \\\n",
       "0                      Action, Adventure, Sci-Fi    4/10/2014          6.6   \n",
       "1             Animation, Comedy, Family, Fantasy    6/20/2010          7.7   \n",
       "2                                         Comedy    6/24/2010          6.0   \n",
       "3  Animation, Action, Adventure, Family, Fantasy    3/18/2010          8.1   \n",
       "4            Action, Adventure, Sci-Fi, Thriller     7/8/2010          8.8   \n",
       "\n",
       "   Metascore Rating  Box Office  \n",
       "0         53  PG-13   183277573  \n",
       "1         72     PG   251476985  \n",
       "2         30  PG-13   162001186  \n",
       "3         74     PG   216900000  \n",
       "4         74  PG-13   292568851  "
      ]
     },
     "execution_count": 2,
     "metadata": {},
     "output_type": "execute_result"
    }
   ],
   "source": [
    "#Read clean data\n",
    "path = \"Movie_Data.csv\"\n",
    "movies = pd.read_csv(path)\n",
    "movies.head()"
   ]
  },
  {
   "cell_type": "code",
   "execution_count": 3,
   "metadata": {},
   "outputs": [
    {
     "data": {
      "text/html": [
       "<div>\n",
       "<style scoped>\n",
       "    .dataframe tbody tr th:only-of-type {\n",
       "        vertical-align: middle;\n",
       "    }\n",
       "\n",
       "    .dataframe tbody tr th {\n",
       "        vertical-align: top;\n",
       "    }\n",
       "\n",
       "    .dataframe thead th {\n",
       "        text-align: right;\n",
       "    }\n",
       "</style>\n",
       "<table border=\"1\" class=\"dataframe\">\n",
       "  <thead>\n",
       "    <tr style=\"text-align: right;\">\n",
       "      <th></th>\n",
       "      <th>Rating</th>\n",
       "      <th>Box Office</th>\n",
       "    </tr>\n",
       "  </thead>\n",
       "  <tbody>\n",
       "    <tr>\n",
       "      <th>0</th>\n",
       "      <td>PG-13</td>\n",
       "      <td>183277573</td>\n",
       "    </tr>\n",
       "    <tr>\n",
       "      <th>1</th>\n",
       "      <td>PG</td>\n",
       "      <td>251476985</td>\n",
       "    </tr>\n",
       "    <tr>\n",
       "      <th>2</th>\n",
       "      <td>PG-13</td>\n",
       "      <td>162001186</td>\n",
       "    </tr>\n",
       "    <tr>\n",
       "      <th>3</th>\n",
       "      <td>PG</td>\n",
       "      <td>216900000</td>\n",
       "    </tr>\n",
       "    <tr>\n",
       "      <th>4</th>\n",
       "      <td>PG-13</td>\n",
       "      <td>292568851</td>\n",
       "    </tr>\n",
       "  </tbody>\n",
       "</table>\n",
       "</div>"
      ],
      "text/plain": [
       "  Rating  Box Office\n",
       "0  PG-13   183277573\n",
       "1     PG   251476985\n",
       "2  PG-13   162001186\n",
       "3     PG   216900000\n",
       "4  PG-13   292568851"
      ]
     },
     "execution_count": 3,
     "metadata": {},
     "output_type": "execute_result"
    }
   ],
   "source": [
    "#Extract relevant columns\n",
    "mpaa_df = movies[['Rating','Box Office']]\n",
    "mpaa_df.head()"
   ]
  },
  {
   "cell_type": "code",
   "execution_count": 4,
   "metadata": {},
   "outputs": [
    {
     "data": {
      "text/plain": [
       "['PG-13', 'PG', 'R', 'G', 'NC-17', 'Not Rated']"
      ]
     },
     "execution_count": 4,
     "metadata": {},
     "output_type": "execute_result"
    }
   ],
   "source": [
    "#Create x value\n",
    "ratings = []\n",
    "for rating in mpaa_df['Rating']:\n",
    "    if rating not in ratings:\n",
    "        ratings.append(rating)\n",
    "        \n",
    "ratings"
   ]
  },
  {
   "cell_type": "code",
   "execution_count": 5,
   "metadata": {},
   "outputs": [],
   "source": [
    "#Create y value\n",
    "df0 = mpaa_df[mpaa_df['Rating'] == ratings[0]].mean()\n",
    "df1 = mpaa_df[mpaa_df['Rating'] == ratings[1]].mean()\n",
    "df2 = mpaa_df[mpaa_df['Rating'] == ratings[2]].mean()\n",
    "df3 = mpaa_df[mpaa_df['Rating'] == ratings[3]].mean()\n",
    "df4 = mpaa_df[mpaa_df['Rating'] == ratings[4]].mean()\n",
    "df5 = mpaa_df[mpaa_df['Rating'] == ratings[5]].mean()"
   ]
  },
  {
   "cell_type": "code",
   "execution_count": 6,
   "metadata": {},
   "outputs": [
    {
     "data": {
      "text/plain": [
       "[81.4896013923077,\n",
       " 91.66613701587302,\n",
       " 26.064236822072075,\n",
       " 120.3966333076923,\n",
       " 2.971782,\n",
       " 0.2227295348837209]"
      ]
     },
     "execution_count": 6,
     "metadata": {},
     "output_type": "execute_result"
    }
   ],
   "source": [
    "average_box_office = [df0[0],df1[0],df2[0],df3[0],df4[0], df5[0]]\n",
    "average_box_office = [x/1000000 for x in average_box_office]\n",
    "average_box_office"
   ]
  },
  {
   "cell_type": "code",
   "execution_count": 7,
   "metadata": {},
   "outputs": [
    {
     "data": {
      "text/html": [
       "<div>\n",
       "<style scoped>\n",
       "    .dataframe tbody tr th:only-of-type {\n",
       "        vertical-align: middle;\n",
       "    }\n",
       "\n",
       "    .dataframe tbody tr th {\n",
       "        vertical-align: top;\n",
       "    }\n",
       "\n",
       "    .dataframe thead th {\n",
       "        text-align: right;\n",
       "    }\n",
       "</style>\n",
       "<table border=\"1\" class=\"dataframe\">\n",
       "  <thead>\n",
       "    <tr style=\"text-align: right;\">\n",
       "      <th></th>\n",
       "      <th>Rating</th>\n",
       "      <th>Average Box Office (millions)</th>\n",
       "    </tr>\n",
       "  </thead>\n",
       "  <tbody>\n",
       "    <tr>\n",
       "      <th>0</th>\n",
       "      <td>PG-13</td>\n",
       "      <td>81.489601</td>\n",
       "    </tr>\n",
       "    <tr>\n",
       "      <th>1</th>\n",
       "      <td>PG</td>\n",
       "      <td>91.666137</td>\n",
       "    </tr>\n",
       "    <tr>\n",
       "      <th>2</th>\n",
       "      <td>R</td>\n",
       "      <td>26.064237</td>\n",
       "    </tr>\n",
       "    <tr>\n",
       "      <th>3</th>\n",
       "      <td>G</td>\n",
       "      <td>120.396633</td>\n",
       "    </tr>\n",
       "    <tr>\n",
       "      <th>4</th>\n",
       "      <td>NC-17</td>\n",
       "      <td>2.971782</td>\n",
       "    </tr>\n",
       "    <tr>\n",
       "      <th>5</th>\n",
       "      <td>Not Rated</td>\n",
       "      <td>0.222730</td>\n",
       "    </tr>\n",
       "  </tbody>\n",
       "</table>\n",
       "</div>"
      ],
      "text/plain": [
       "      Rating  Average Box Office (millions)\n",
       "0      PG-13                      81.489601\n",
       "1         PG                      91.666137\n",
       "2          R                      26.064237\n",
       "3          G                     120.396633\n",
       "4      NC-17                       2.971782\n",
       "5  Not Rated                       0.222730"
      ]
     },
     "execution_count": 7,
     "metadata": {},
     "output_type": "execute_result"
    }
   ],
   "source": [
    "# x and y values as a df\n",
    "data = pd.DataFrame({\"Rating\":ratings,\"Average Box Office (millions)\":average_box_office})\n",
    "data"
   ]
  },
  {
   "cell_type": "code",
   "execution_count": 8,
   "metadata": {},
   "outputs": [],
   "source": [
    "# sort data\n",
    "average_box = sorted(data['Average Box Office (millions)'])"
   ]
  },
  {
   "cell_type": "code",
   "execution_count": 9,
   "metadata": {},
   "outputs": [
    {
     "data": {
      "text/html": [
       "<div>\n",
       "<style scoped>\n",
       "    .dataframe tbody tr th:only-of-type {\n",
       "        vertical-align: middle;\n",
       "    }\n",
       "\n",
       "    .dataframe tbody tr th {\n",
       "        vertical-align: top;\n",
       "    }\n",
       "\n",
       "    .dataframe thead th {\n",
       "        text-align: right;\n",
       "    }\n",
       "</style>\n",
       "<table border=\"1\" class=\"dataframe\">\n",
       "  <thead>\n",
       "    <tr style=\"text-align: right;\">\n",
       "      <th></th>\n",
       "      <th>Rating</th>\n",
       "      <th>Average Box Office (millions)</th>\n",
       "    </tr>\n",
       "  </thead>\n",
       "  <tbody>\n",
       "    <tr>\n",
       "      <th>0</th>\n",
       "      <td>Not Rated</td>\n",
       "      <td>0.222730</td>\n",
       "    </tr>\n",
       "    <tr>\n",
       "      <th>1</th>\n",
       "      <td>NC-17</td>\n",
       "      <td>2.971782</td>\n",
       "    </tr>\n",
       "    <tr>\n",
       "      <th>2</th>\n",
       "      <td>R</td>\n",
       "      <td>26.064237</td>\n",
       "    </tr>\n",
       "    <tr>\n",
       "      <th>3</th>\n",
       "      <td>PG-13</td>\n",
       "      <td>81.489601</td>\n",
       "    </tr>\n",
       "    <tr>\n",
       "      <th>4</th>\n",
       "      <td>PG</td>\n",
       "      <td>91.666137</td>\n",
       "    </tr>\n",
       "    <tr>\n",
       "      <th>5</th>\n",
       "      <td>G</td>\n",
       "      <td>120.396633</td>\n",
       "    </tr>\n",
       "  </tbody>\n",
       "</table>\n",
       "</div>"
      ],
      "text/plain": [
       "      Rating  Average Box Office (millions)\n",
       "0  Not Rated                       0.222730\n",
       "1      NC-17                       2.971782\n",
       "2          R                      26.064237\n",
       "3      PG-13                      81.489601\n",
       "4         PG                      91.666137\n",
       "5          G                     120.396633"
      ]
     },
     "execution_count": 9,
     "metadata": {},
     "output_type": "execute_result"
    }
   ],
   "source": [
    "ratings = ratings\n",
    "ratings = ['Not Rated','NC-17','R','PG-13','PG','G']\n",
    "sorted_data = pd.DataFrame({\"Rating\":ratings,\n",
    "                            \"Average Box Office (millions)\":average_box\n",
    "})\n",
    "sorted_data"
   ]
  },
  {
   "cell_type": "code",
   "execution_count": 10,
   "metadata": {},
   "outputs": [
    {
     "data": {
      "image/png": "[encoded data removed]",
      "text/plain": [
       "<Figure size 720x360 with 1 Axes>"
      ]
     },
     "metadata": {
      "needs_background": "light"
     },
     "output_type": "display_data"
    }
   ],
   "source": [
    "# bar chart showing relation\n",
    "plt.figure(figsize=(10,5))\n",
    "color=['maroon', 'royalblue', 'red','orchid','orange','green']\n",
    "plt.bar(sorted_data['Rating'], sorted_data['Average Box Office (millions)'], color=color,align='center')\n",
    "plt.ylim(0, 140)\n",
    "plt.xlabel(\"MPAA Rating\")\n",
    "plt.ylabel(\"Average Box Office (Millions)\")\n",
    "plt.title(\"MPAA Rating vs Average Box Office\")\n",
    "\n",
    "plt.show()"
   ]
  },
  {
   "cell_type": "code",
   "execution_count": 11,
   "metadata": {},
   "outputs": [
    {
     "data": {
      "image/png": "[encoded data removed]",
      "text/plain": [
       "<Figure size 432x288 with 1 Axes>"
      ]
     },
     "metadata": {},
     "output_type": "display_data"
    }
   ],
   "source": [
    "# pie chart showing relation\n",
    "explode = [0,0,0,0,0,0.1]\n",
    "colors = ['maroon', 'royalblue', 'red','orchid','orange','green']\n",
    "plt.pie(sorted_data['Average Box Office (millions)'],labels=sorted_data['Rating'],colors=colors,explode=explode,autopct=\"%1.1f%%\",shadow=True,pctdistance=0.9,radius=3,startangle=180)\n",
    "plt.title(\"Percent of Movies by Rating\",y=2)\n",
    "plt.show()"
   ]
  },
  {
   "cell_type": "code",
   "execution_count": 12,
   "metadata": {},
   "outputs": [
    {
     "data": {
      "image/png": "[encoded data removed]",
      "text/plain": [
       "<Figure size 1440x720 with 1 Axes>"
      ]
     },
     "metadata": {
      "needs_background": "light"
     },
     "output_type": "display_data"
    }
   ],
   "source": [
    "# Box plot\n",
    "mpaa_df.boxplot(\"Box Office\", by=\"Rating\", figsize=(20, 10),showmeans=True)\n",
    "plt.show()"
   ]
  },
  {
   "cell_type": "code",
   "execution_count": 13,
   "metadata": {},
   "outputs": [],
   "source": [
    "# ANOVA test\n",
    "group1 = mpaa_df[mpaa_df[\"Rating\"] == 'Not Rated'][\"Box Office\"]\n",
    "group2 = mpaa_df[mpaa_df[\"Rating\"] == 'NC-17'][\"Box Office\"]\n",
    "group3 = mpaa_df[mpaa_df[\"Rating\"] == 'R'][\"Box Office\"]\n",
    "group4 = mpaa_df[mpaa_df[\"Rating\"] == 'PG-13'][\"Box Office\"]\n",
    "group5 = mpaa_df[mpaa_df[\"Rating\"] == 'PG'][\"Box Office\"]\n",
    "group6 = mpaa_df[mpaa_df[\"Rating\"] == 'G'][\"Box Office\"]"
   ]
  },
  {
   "cell_type": "code",
   "execution_count": 14,
   "metadata": {},
   "outputs": [
    {
     "data": {
      "text/plain": [
       "F_onewayResult(statistic=29.37724940787404, pvalue=6.545578428438524e-28)"
      ]
     },
     "execution_count": 14,
     "metadata": {},
     "output_type": "execute_result"
    }
   ],
   "source": [
    "stats.f_oneway(group1, group2, group3, group4, group5, group6)"
   ]
  },
  {
   "cell_type": "markdown",
   "metadata": {},
   "source": [
    "# Observation\n",
    "\n",
    "* Based on the data, on average, G movies bring in the most box office revenue\n",
    "\n",
    "* It appears that PG-13 rated movies have the movies with the highest earnings. However it also must have a lot of poorly performing movies as well, bringing the average down.\n",
    "\n",
    "* R rated movies only has 8.1% of the average revenue, likely because of a more narrow audience.\n",
    "\n",
    "* Using the ANOVA test, the pvalue is less than 0.05. The test is significant."
   ]
  },
  {
   "cell_type": "code",
   "execution_count": null,
   "metadata": {},
   "outputs": [],
   "source": []
  }
 ],
 "metadata": {
  "kernelspec": {
   "display_name": "Python 3",
   "language": "python",
   "name": "python3"
  },
  "language_info": {
   "codemirror_mode": {
    "name": "ipython",
    "version": 3
   },
   "file_extension": ".py",
   "mimetype": "text/x-python",
   "name": "python",
   "nbconvert_exporter": "python",
   "pygments_lexer": "ipython3",
   "version": "3.7.1"
  }
 },
 "nbformat": 4,
 "nbformat_minor": 2
}
