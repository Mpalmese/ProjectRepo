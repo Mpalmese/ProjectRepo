{
 "cells": [
  {
   "cell_type": "code",
   "execution_count": 21,
   "metadata": {},
   "outputs": [],
   "source": [
    "#Import Dependencies\n",
    "import pandas as pd\n",
    "import numpy as np\n",
    "import matplotlib.pyplot as plt\n",
    "import scipy.stats as stats"
   ]
  },
  {
   "cell_type": "code",
   "execution_count": 22,
   "metadata": {},
   "outputs": [
    {
     "data": {
      "text/html": [
       "<div>\n",
       "<style scoped>\n",
       "    .dataframe tbody tr th:only-of-type {\n",
       "        vertical-align: middle;\n",
       "    }\n",
       "\n",
       "    .dataframe tbody tr th {\n",
       "        vertical-align: top;\n",
       "    }\n",
       "\n",
       "    .dataframe thead th {\n",
       "        text-align: right;\n",
       "    }\n",
       "</style>\n",
       "<table border=\"1\" class=\"dataframe\">\n",
       "  <thead>\n",
       "    <tr style=\"text-align: right;\">\n",
       "      <th></th>\n",
       "      <th>IMDb ID</th>\n",
       "      <th>Title</th>\n",
       "      <th>Runtime (mins)</th>\n",
       "      <th>Year</th>\n",
       "      <th>Genres</th>\n",
       "      <th>Release Date</th>\n",
       "      <th>IMDb Rating</th>\n",
       "      <th>Metascore</th>\n",
       "      <th>Rating</th>\n",
       "      <th>Box Office</th>\n",
       "    </tr>\n",
       "  </thead>\n",
       "  <tbody>\n",
       "    <tr>\n",
       "      <th>0</th>\n",
       "      <td>tt1872181</td>\n",
       "      <td>The Amazing Spider-Man 2</td>\n",
       "      <td>142</td>\n",
       "      <td>2014</td>\n",
       "      <td>Action, Adventure, Sci-Fi</td>\n",
       "      <td>4/10/2014</td>\n",
       "      <td>6.6</td>\n",
       "      <td>53</td>\n",
       "      <td>PG-13</td>\n",
       "      <td>183277573</td>\n",
       "    </tr>\n",
       "    <tr>\n",
       "      <th>1</th>\n",
       "      <td>tt1323594</td>\n",
       "      <td>Despicable Me</td>\n",
       "      <td>95</td>\n",
       "      <td>2010</td>\n",
       "      <td>Animation, Comedy, Family, Fantasy</td>\n",
       "      <td>6/20/2010</td>\n",
       "      <td>7.7</td>\n",
       "      <td>72</td>\n",
       "      <td>PG</td>\n",
       "      <td>251476985</td>\n",
       "    </tr>\n",
       "    <tr>\n",
       "      <th>2</th>\n",
       "      <td>tt1375670</td>\n",
       "      <td>Grown Ups</td>\n",
       "      <td>102</td>\n",
       "      <td>2010</td>\n",
       "      <td>Comedy</td>\n",
       "      <td>6/24/2010</td>\n",
       "      <td>6.0</td>\n",
       "      <td>30</td>\n",
       "      <td>PG-13</td>\n",
       "      <td>162001186</td>\n",
       "    </tr>\n",
       "    <tr>\n",
       "      <th>3</th>\n",
       "      <td>tt0892769</td>\n",
       "      <td>How to Train Your Dragon</td>\n",
       "      <td>98</td>\n",
       "      <td>2010</td>\n",
       "      <td>Animation, Action, Adventure, Family, Fantasy</td>\n",
       "      <td>3/18/2010</td>\n",
       "      <td>8.1</td>\n",
       "      <td>74</td>\n",
       "      <td>PG</td>\n",
       "      <td>216900000</td>\n",
       "    </tr>\n",
       "    <tr>\n",
       "      <th>4</th>\n",
       "      <td>tt1375666</td>\n",
       "      <td>Inception</td>\n",
       "      <td>148</td>\n",
       "      <td>2010</td>\n",
       "      <td>Action, Adventure, Sci-Fi, Thriller</td>\n",
       "      <td>7/8/2010</td>\n",
       "      <td>8.8</td>\n",
       "      <td>74</td>\n",
       "      <td>PG-13</td>\n",
       "      <td>292568851</td>\n",
       "    </tr>\n",
       "  </tbody>\n",
       "</table>\n",
       "</div>"
      ],
      "text/plain": [
       "     IMDb ID                     Title  Runtime (mins)  Year  \\\n",
       "0  tt1872181  The Amazing Spider-Man 2             142  2014   \n",
       "1  tt1323594             Despicable Me              95  2010   \n",
       "2  tt1375670                 Grown Ups             102  2010   \n",
       "3  tt0892769  How to Train Your Dragon              98  2010   \n",
       "4  tt1375666                 Inception             148  2010   \n",
       "\n",
       "                                          Genres Release Date  IMDb Rating  \\\n",
       "0                      Action, Adventure, Sci-Fi    4/10/2014          6.6   \n",
       "1             Animation, Comedy, Family, Fantasy    6/20/2010          7.7   \n",
       "2                                         Comedy    6/24/2010          6.0   \n",
       "3  Animation, Action, Adventure, Family, Fantasy    3/18/2010          8.1   \n",
       "4            Action, Adventure, Sci-Fi, Thriller     7/8/2010          8.8   \n",
       "\n",
       "   Metascore Rating  Box Office  \n",
       "0         53  PG-13   183277573  \n",
       "1         72     PG   251476985  \n",
       "2         30  PG-13   162001186  \n",
       "3         74     PG   216900000  \n",
       "4         74  PG-13   292568851  "
      ]
     },
     "execution_count": 22,
     "metadata": {},
     "output_type": "execute_result"
    }
   ],
   "source": [
    "#Read csv with proper encoding\n",
    "path = \"Movie_Data.csv\"\n",
    "movies = pd.read_csv(path, encoding='latin1')\n",
    "movies.head()"
   ]
  },
  {
   "cell_type": "code",
   "execution_count": 23,
   "metadata": {
    "scrolled": true
   },
   "outputs": [
    {
     "data": {
      "text/plain": [
       "[<matplotlib.lines.Line2D at 0x198aac22d30>]"
      ]
     },
     "execution_count": 23,
     "metadata": {},
     "output_type": "execute_result"
    },
    {
     "data": {
      "image/png": "[encoded data removed]",
      "text/plain": [
       "<Figure size 432x288 with 1 Axes>"
      ]
     },
     "metadata": {
      "needs_background": "light"
     },
     "output_type": "display_data"
    }
   ],
   "source": [
    "# Create a scatterplot for Runtime vs Box Office\n",
    "\n",
    "plt.scatter(movies[\"Runtime (mins)\"], movies[\"Box Office\"], \n",
    "            marker = \"o\", edgecolors = \"black\")\n",
    "plt.title(\"Runtime (min) vs. Box Office\")\n",
    "plt.xlabel(\"Runtime (min)\")\n",
    "plt.ylabel(\"Box Office ($)\")\n",
    "plt.xlim(50, 200)\n",
    "plt.ylim(0, 550000000)\n",
    "plt.grid(True)\n",
    "\n",
    "# Linear Regression\n",
    "\n",
    "x = np.arange(1, 200, 1)\n",
    "regress_user = stats.linregress(movies['Runtime (mins)'], movies['Box Office'])\n",
    "plt.plot(x, x * regress_user[0] + regress_user[1])\n"
   ]
  },
  {
   "cell_type": "code",
   "execution_count": 24,
   "metadata": {},
   "outputs": [
    {
     "data": {
      "text/plain": [
       "LinregressResult(slope=2075040.3637465483, intercept=-167271758.52555242, rvalue=0.3908841253667198, pvalue=1.817947405216487e-38, stderr=153370.18061192226)"
      ]
     },
     "execution_count": 24,
     "metadata": {},
     "output_type": "execute_result"
    }
   ],
   "source": [
    "regress_user"
   ]
  },
  {
   "cell_type": "markdown",
   "metadata": {},
   "source": [
    "# Observations\n",
    "\n",
    " Small p-value indicates means the null hypothesis should be rejected."
   ]
  },
  {
   "cell_type": "code",
   "execution_count": null,
   "metadata": {
    "scrolled": true
   },
   "outputs": [],
   "source": [
    "# Create bar chart with ranges of runtimes vs Box Office\n",
    "bins = [0, 80, 100, 120, 140, 160, 180, 200]\n",
    "\n",
    "# Create names for the bins\n",
    "group_names = [\" <80\", \"80-99\", \"100-119\", \"120-139\", \"140-159\", \"160-179\", \"180+\" ]\n",
    "\n",
    "# Create a DataFrame\n",
    "movies[\"Runtime (mins)\"] = pd.cut(movies[\"Runtime (mins)\"], bins, labels = group_names)\n",
    "\n",
    "movies_data_groupby = movies[\"Runtime (mins)\"]\n",
    "movies_data_groupby "
   ]
  },
  {
   "cell_type": "code",
   "execution_count": null,
   "metadata": {},
   "outputs": [],
   "source": [
    "# Merge \n",
    "test = pd.DataFrame(movies_data_groupby)"
   ]
  },
  {
   "cell_type": "code",
   "execution_count": null,
   "metadata": {},
   "outputs": [],
   "source": [
    "join_df = test.merge(movies, on='Runtime (mins)', how='right')"
   ]
  },
  {
   "cell_type": "code",
   "execution_count": null,
   "metadata": {},
   "outputs": [],
   "source": [
    "join_df.drop_duplicates(subset=None, keep=\"first\", inplace=True)"
   ]
  },
  {
   "cell_type": "code",
   "execution_count": null,
   "metadata": {},
   "outputs": [],
   "source": [
    "# Create DataFrame with columns to compare\n",
    "final_df = join_df[[\"Runtime (mins)\", \"Box Office\"]]"
   ]
  },
  {
   "cell_type": "code",
   "execution_count": null,
   "metadata": {},
   "outputs": [],
   "source": [
    "groupby_run = final_df[\"Box Office\"].groupby(final_df[\"Runtime (mins)\"])\n",
    "groupby_run.mean()"
   ]
  },
  {
   "cell_type": "code",
   "execution_count": null,
   "metadata": {},
   "outputs": [],
   "source": [
    "testing = pd.DataFrame(groupby_run.mean())"
   ]
  },
  {
   "cell_type": "code",
   "execution_count": null,
   "metadata": {},
   "outputs": [],
   "source": [
    "#Reset the index\n",
    "testing = testing.reset_index()"
   ]
  },
  {
   "cell_type": "code",
   "execution_count": null,
   "metadata": {},
   "outputs": [],
   "source": [
    "# Bar chart\n",
    "plt.bar(testing[\"Runtime (mins)\"], testing[\"Box Office\"], color = \"blue\", alpha = 0.75, align = \"center\")\n",
    "plt.title(\"Runtime (min) vs. Average Box Office\")\n",
    "plt.xlabel(\"Runtime (min)\")\n",
    "plt.ylabel(\"Box Office ($)\")"
   ]
  },
  {
   "cell_type": "code",
   "execution_count": null,
   "metadata": {},
   "outputs": [],
   "source": []
  },
  {
   "cell_type": "markdown",
   "metadata": {},
   "source": [
    "# Observations\n",
    "\n",
    "### Just describe what you see from the bar chart."
   ]
  },
  {
   "cell_type": "code",
   "execution_count": null,
   "metadata": {},
   "outputs": [],
   "source": []
  }
 ],
 "metadata": {
  "kernelspec": {
   "display_name": "Python [conda env:PythonData]",
   "language": "python",
   "name": "conda-env-PythonData-py"
  },
  "language_info": {
   "codemirror_mode": {
    "name": "ipython",
    "version": 3
   },
   "file_extension": ".py",
   "mimetype": "text/x-python",
   "name": "python",
   "nbconvert_exporter": "python",
   "pygments_lexer": "ipython3",
   "version": "3.6.7"
  }
 },
 "nbformat": 4,
 "nbformat_minor": 2
}
