{
 "cells": [
  {
   "cell_type": "markdown",
   "metadata": {},
   "source": [
    "# Analysis of Movie Data\n",
    "## Questions to be answered\n",
    "\n",
    "1. Is there any correlation between critic and user ratings with box office results in the U.S.?\n",
    "\n",
    "\n",
    "2. Which genres of film resulted in the greatest box office success?\n",
    "\n",
    "\n",
    "3. Does MPAA rating affect the box office?\n",
    "\n",
    "\n",
    "4.\tHow does the month of release affect box office results?\n",
    "\n",
    "\n",
    "5.\tDoes runtime affect box office results?"
   ]
  },
  {
   "cell_type": "code",
   "execution_count": 1,
   "metadata": {},
   "outputs": [],
   "source": [
    "#Import Dependancies\n",
    "%matplotlib inline\n",
    "import pandas as pd\n",
    "import scipy.stats as stats\n",
    "import matplotlib.pyplot as plt\n",
    "import numpy as np\n",
    "import statsmodels.api as sm\n",
    "import datetime as dt\n",
    "import seaborn as sns ; sns.set()\n",
    "from matplotlib.ticker import PercentFormatter"
   ]
  },
  {
   "cell_type": "code",
   "execution_count": 2,
   "metadata": {},
   "outputs": [
    {
     "data": {
      "text/html": [
       "<div>\n",
       "<style scoped>\n",
       "    .dataframe tbody tr th:only-of-type {\n",
       "        vertical-align: middle;\n",
       "    }\n",
       "\n",
       "    .dataframe tbody tr th {\n",
       "        vertical-align: top;\n",
       "    }\n",
       "\n",
       "    .dataframe thead th {\n",
       "        text-align: right;\n",
       "    }\n",
       "</style>\n",
       "<table border=\"1\" class=\"dataframe\">\n",
       "  <thead>\n",
       "    <tr style=\"text-align: right;\">\n",
       "      <th></th>\n",
       "      <th>IMDb ID</th>\n",
       "      <th>Title</th>\n",
       "      <th>Runtime (mins)</th>\n",
       "      <th>Year</th>\n",
       "      <th>Genres</th>\n",
       "      <th>Release Date</th>\n",
       "      <th>IMDb Rating</th>\n",
       "      <th>Metascore</th>\n",
       "      <th>Rating</th>\n",
       "      <th>Box Office</th>\n",
       "    </tr>\n",
       "  </thead>\n",
       "  <tbody>\n",
       "    <tr>\n",
       "      <th>0</th>\n",
       "      <td>tt1872181</td>\n",
       "      <td>The Amazing Spider-Man 2</td>\n",
       "      <td>142</td>\n",
       "      <td>2014</td>\n",
       "      <td>Action, Adventure, Sci-Fi</td>\n",
       "      <td>4/10/2014</td>\n",
       "      <td>6.6</td>\n",
       "      <td>53</td>\n",
       "      <td>PG-13</td>\n",
       "      <td>183277573</td>\n",
       "    </tr>\n",
       "    <tr>\n",
       "      <th>1</th>\n",
       "      <td>tt1323594</td>\n",
       "      <td>Despicable Me</td>\n",
       "      <td>95</td>\n",
       "      <td>2010</td>\n",
       "      <td>Animation, Comedy, Family, Fantasy</td>\n",
       "      <td>6/20/2010</td>\n",
       "      <td>7.7</td>\n",
       "      <td>72</td>\n",
       "      <td>PG</td>\n",
       "      <td>251476985</td>\n",
       "    </tr>\n",
       "    <tr>\n",
       "      <th>2</th>\n",
       "      <td>tt1375670</td>\n",
       "      <td>Grown Ups</td>\n",
       "      <td>102</td>\n",
       "      <td>2010</td>\n",
       "      <td>Comedy</td>\n",
       "      <td>6/24/2010</td>\n",
       "      <td>6.0</td>\n",
       "      <td>30</td>\n",
       "      <td>PG-13</td>\n",
       "      <td>162001186</td>\n",
       "    </tr>\n",
       "    <tr>\n",
       "      <th>3</th>\n",
       "      <td>tt0892769</td>\n",
       "      <td>How to Train Your Dragon</td>\n",
       "      <td>98</td>\n",
       "      <td>2010</td>\n",
       "      <td>Animation, Action, Adventure, Family, Fantasy</td>\n",
       "      <td>3/18/2010</td>\n",
       "      <td>8.1</td>\n",
       "      <td>74</td>\n",
       "      <td>PG</td>\n",
       "      <td>216900000</td>\n",
       "    </tr>\n",
       "    <tr>\n",
       "      <th>4</th>\n",
       "      <td>tt1375666</td>\n",
       "      <td>Inception</td>\n",
       "      <td>148</td>\n",
       "      <td>2010</td>\n",
       "      <td>Action, Adventure, Sci-Fi, Thriller</td>\n",
       "      <td>7/8/2010</td>\n",
       "      <td>8.8</td>\n",
       "      <td>74</td>\n",
       "      <td>PG-13</td>\n",
       "      <td>292568851</td>\n",
       "    </tr>\n",
       "  </tbody>\n",
       "</table>\n",
       "</div>"
      ],
      "text/plain": [
       "     IMDb ID                     Title  Runtime (mins)  Year  \\\n",
       "0  tt1872181  The Amazing Spider-Man 2             142  2014   \n",
       "1  tt1323594             Despicable Me              95  2010   \n",
       "2  tt1375670                 Grown Ups             102  2010   \n",
       "3  tt0892769  How to Train Your Dragon              98  2010   \n",
       "4  tt1375666                 Inception             148  2010   \n",
       "\n",
       "                                          Genres Release Date  IMDb Rating  \\\n",
       "0                      Action, Adventure, Sci-Fi    4/10/2014          6.6   \n",
       "1             Animation, Comedy, Family, Fantasy    6/20/2010          7.7   \n",
       "2                                         Comedy    6/24/2010          6.0   \n",
       "3  Animation, Action, Adventure, Family, Fantasy    3/18/2010          8.1   \n",
       "4            Action, Adventure, Sci-Fi, Thriller     7/8/2010          8.8   \n",
       "\n",
       "   Metascore Rating  Box Office  \n",
       "0         53  PG-13   183277573  \n",
       "1         72     PG   251476985  \n",
       "2         30  PG-13   162001186  \n",
       "3         74     PG   216900000  \n",
       "4         74  PG-13   292568851  "
      ]
     },
     "execution_count": 2,
     "metadata": {},
     "output_type": "execute_result"
    }
   ],
   "source": [
    "#Import the data\n",
    "movies = pd.read_csv('Movie_Data.csv')\n",
    "movies.head()"
   ]
  },
  {
   "cell_type": "markdown",
   "metadata": {},
   "source": [
    "# 1. Analysis of Critics and User Rating\n",
    "\n",
    "We want to see whether user rating (represented by IMDB rating) and critics rating (represented by the metascore) are significantly different for the films\n",
    "\n",
    "If so, we want to see how the scores influence the box office return.\n",
    "\n",
    "This will allow us to determine which score, if any, to target in the creation of our movie\n",
    "\n"
   ]
  },
  {
   "cell_type": "markdown",
   "metadata": {},
   "source": [
    "# Testing Differences"
   ]
  },
  {
   "cell_type": "markdown",
   "metadata": {},
   "source": [
    "### First, lets visualize the differences by displaying them as histograms"
   ]
  },
  {
   "cell_type": "code",
   "execution_count": 3,
   "metadata": {},
   "outputs": [
    {
     "data": {
      "image/png": "[encoded data removed]",
      "text/plain": [
       "<Figure size 432x288 with 1 Axes>"
      ]
     },
     "metadata": {
      "needs_background": "light"
     },
     "output_type": "display_data"
    }
   ],
   "source": [
    "#Plot the histogram of the IMDb Rating to represent the user ratings\n",
    "#Values are multiplied by 10 to show them on the same scale as the metascore\n",
    "plt.hist(movies['IMDb Rating'] * 10, bins=[10, 20, 30, 40, 50 , 60, 70, 80, 90], label='User Ratings', alpha=0.7, color='blue')\n",
    "plt.axvline(movies['IMDb Rating'].mean() * 10, color='darkblue', linestyle='dashed', linewidth=1)\n",
    "\n",
    "#Plot the histogram of the Metacritic Rating to represent the critic rating ratings\n",
    "plt.hist(movies['Metascore'], bins=[10, 20, 30, 40, 50 , 60, 70, 80, 90], label='Critic Ratings', alpha=0.7, color='orange')\n",
    "plt.axvline(movies['Metascore'].mean(), color='darkgoldenrod', linestyle='dashed', linewidth=1)\n",
    "plt.legend()\n",
    "plt.xlabel('Rating (out of 100)')\n",
    "plt.ylabel('Number of Titles')\n",
    "\n",
    "plt.savefig(\"Analysis Charts/1. Critic and User Rating/Rating_Histogram.png\")\n",
    "\n",
    "plt.show()"
   ]
  },
  {
   "cell_type": "markdown",
   "metadata": {},
   "source": [
    "## Observations\n",
    "\n",
    "Looking at the histograms, we can see the average User score is higher than the average critic's score.\n",
    "\n",
    "Most of the user ratings fall between 50 and 70, whereas the critics ratings are much more widely distributed\n",
    "\n"
   ]
  },
  {
   "cell_type": "markdown",
   "metadata": {},
   "source": [
    "\n",
    "### Next, let's test to ensure the two are statistically different. We will be using a 2-sample T-test with a confidence level of 95% to make our determination\n",
    "\n",
    "The hypothesis we are testing is the the two scores are different\n",
    "\n",
    "The null hypothis is that the two score are the same"
   ]
  },
  {
   "cell_type": "code",
   "execution_count": 4,
   "metadata": {},
   "outputs": [
    {
     "name": "stdout",
     "output_type": "stream",
     "text": [
      "The P value = 3.64643515520769e-62\n"
     ]
    }
   ],
   "source": [
    "p_value = stats.ttest_ind(movies['IMDb Rating'] * 10, movies['Metascore'], equal_var=False)\n",
    "\n",
    "print(f\"The P value = {p_value[1]}\")"
   ]
  },
  {
   "cell_type": "markdown",
   "metadata": {},
   "source": [
    "## Observations\n",
    "\n",
    "Since the P value is less than 5%, we need to reject the null hypothosis that the two scores are the same"
   ]
  },
  {
   "cell_type": "markdown",
   "metadata": {},
   "source": [
    "### Now that we know the scores are different, let's visualized how the box office returns change given a change in each of the scores.\n",
    "\n",
    "We can do this by using scatterplots. Again, the need to multipy the IMDb score by 10 to set the axis to be the same."
   ]
  },
  {
   "cell_type": "code",
   "execution_count": 5,
   "metadata": {},
   "outputs": [
    {
     "data": {
      "text/plain": [
       "936658640"
      ]
     },
     "execution_count": 5,
     "metadata": {},
     "output_type": "execute_result"
    }
   ],
   "source": [
    "movies['Box Office'].max()"
   ]
  },
  {
   "cell_type": "code",
   "execution_count": 6,
   "metadata": {},
   "outputs": [
    {
     "data": {
      "image/png": "[encoded data removed]",
      "text/plain": [
       "<Figure size 1440x360 with 2 Axes>"
      ]
     },
     "metadata": {
      "needs_background": "light"
     },
     "output_type": "display_data"
    }
   ],
   "source": [
    "f = plt.figure(figsize=(20,5))\n",
    "\n",
    "ax = plt.subplot(1,2,1)\n",
    "ax.scatter(movies['IMDb Rating'] * 10, movies['Box Office'], label='User Ratings', alpha=0.7, color='blue')\n",
    "\n",
    "ax2 = plt.subplot(1,2,2)\n",
    "ax2.scatter(movies['Metascore'],movies['Box Office'], label='Critic Ratings', alpha=0.7, color='orange', )\n",
    "\n",
    "ax.legend()\n",
    "ax2.set_xbound(0,100)\n",
    "ax.set_xbound(0,100)\n",
    "ax2.legend()\n",
    "ax.set_xlabel('Rating')\n",
    "ax2.set_xlabel('Rating')\n",
    "ax.set_ylabel('Box Office (in billions)')\n",
    "ax2.set_ylabel('Box Office (in billions)')\n",
    "ax.set_title('Box Office Results agaist User Ratings')\n",
    "ax2.set_title('Box Office Results agaist Critic Ratings')\n",
    "\n",
    "plt.savefig(\"Analysis Charts/1. Critic and User Rating/Rating_Scatter.png\")\n",
    "\n",
    "plt.show()"
   ]
  },
  {
   "cell_type": "markdown",
   "metadata": {},
   "source": [
    "## Observations\n",
    "\n",
    "As expected from the histogram, the critics ratings are have a much wider distribution than the User ratings\n",
    "\n",
    "There are a large number of movies that, regardless of the rating, have very low box office numbers.\n",
    "\n",
    "Although the correlation appears weak it does seem like the higher the rating is, there are more high box office movies there are\n",
    "\n",
    "The variables seem to be highly correlated"
   ]
  },
  {
   "cell_type": "markdown",
   "metadata": {},
   "source": [
    "### Now we're going to test the observation made in the scatter plots by using a regression analysis for each to see if the trend is satistically significant"
   ]
  },
  {
   "cell_type": "code",
   "execution_count": 7,
   "metadata": {},
   "outputs": [
    {
     "data": {
      "text/plain": [
       "LinregressResult(slope=2800558.7969714804, intercept=-123764877.13609344, rvalue=0.28739826331757057, pvalue=8.601849051918464e-21, stderr=292959.3963561884)"
      ]
     },
     "execution_count": 7,
     "metadata": {},
     "output_type": "execute_result"
    }
   ],
   "source": [
    "regress_user = stats.linregress(movies['IMDb Rating'] * 10, movies['Box Office'])\n",
    "\n",
    "regress_user"
   ]
  },
  {
   "cell_type": "code",
   "execution_count": 8,
   "metadata": {},
   "outputs": [
    {
     "data": {
      "image/png": "[encoded data removed]",
      "text/plain": [
       "<Figure size 1440x360 with 2 Axes>"
      ]
     },
     "metadata": {
      "needs_background": "light"
     },
     "output_type": "display_data"
    }
   ],
   "source": [
    "f = plt.figure(figsize=(20,5))\n",
    "x = np.arange(1, 100, 1)\n",
    "regress_user = stats.linregress(movies['IMDb Rating'] * 10, movies['Box Office'])\n",
    "regress_critic = stats.linregress(movies['Metascore'], movies['Box Office'])\n",
    "\n",
    "ax = plt.subplot(1,2,1)\n",
    "ax.scatter(movies['IMDb Rating'] * 10, movies['Box Office'], label='User Ratings', alpha=0.7, color='blue')\n",
    "ax.plot(x, x * regress_user[0] + regress_user[1])\n",
    "\n",
    "ax2 = plt.subplot(1,2,2)\n",
    "ax2.scatter(movies['Metascore'],movies['Box Office'], label='Critic Ratings', alpha=0.7, color='orange', )\n",
    "ax2.plot(x, x * regress_critic[0] + regress_critic[1])\n",
    "\n",
    "ax.legend()\n",
    "ax2.set_xbound(0,100)\n",
    "ax.set_xbound(0,100)\n",
    "ax2.legend()\n",
    "ax.set_xlabel('Rating')\n",
    "ax2.set_xlabel('Rating')\n",
    "ax.set_ylabel('Box Office (in billions)')\n",
    "ax2.set_ylabel('Box Office (in billions)')\n",
    "ax.set_title('Box Office Results agaist User Ratings')\n",
    "ax2.set_title('Box Office Results agaist Critic Ratings')\n",
    "ax.text(0, -4 * 100000000, 'P-Value= ' + str(regress_user[3]) + '  Coeficient= ' + \"{:,.2f}\".format(regress_user[0]) + '  Intercept ' + \"{:,.2f}\".format(regress_user[1]))\n",
    "ax2.text(0, -2.5 * 100000000, 'P-Value= ' + str(regress_critic[3]) + '  Coeficient= ' + \"{:,.2f}\".format(regress_critic[0]) + '  Intercept ' + \"{:,.2f}\".format(regress_critic[1]))\n",
    "\n",
    "plt.savefig(\"Analysis Charts/1. Critic and User Rating/Rating_LR.png\")\n",
    "\n",
    "plt.show()"
   ]
  },
  {
   "cell_type": "markdown",
   "metadata": {},
   "source": [
    "## Observations\n",
    "\n",
    "Simple linear regression for each of the variables show that, independantly, they are both significant\n",
    "\n"
   ]
  },
  {
   "cell_type": "markdown",
   "metadata": {},
   "source": [
    "### Since both are independantly significant and they appear to be correlated, let's set up a multiple linear regression analysis to determine if they are both still significant together"
   ]
  },
  {
   "cell_type": "code",
   "execution_count": 9,
   "metadata": {},
   "outputs": [
    {
     "data": {
      "text/html": [
       "<table class=\"simpletable\">\n",
       "<caption>OLS Regression Results</caption>\n",
       "<tr>\n",
       "  <th>Dep. Variable:</th>       <td>Box Office</td>    <th>  R-squared:         </th> <td>   0.083</td> \n",
       "</tr>\n",
       "<tr>\n",
       "  <th>Model:</th>                   <td>OLS</td>       <th>  Adj. R-squared:    </th> <td>   0.081</td> \n",
       "</tr>\n",
       "<tr>\n",
       "  <th>Method:</th>             <td>Least Squares</td>  <th>  F-statistic:       </th> <td>   45.70</td> \n",
       "</tr>\n",
       "<tr>\n",
       "  <th>Date:</th>             <td>Thu, 07 Mar 2019</td> <th>  Prob (F-statistic):</th> <td>9.92e-20</td> \n",
       "</tr>\n",
       "<tr>\n",
       "  <th>Time:</th>                 <td>11:21:59</td>     <th>  Log-Likelihood:    </th> <td> -20004.</td> \n",
       "</tr>\n",
       "<tr>\n",
       "  <th>No. Observations:</th>      <td>  1017</td>      <th>  AIC:               </th> <td>4.001e+04</td>\n",
       "</tr>\n",
       "<tr>\n",
       "  <th>Df Residuals:</th>          <td>  1014</td>      <th>  BIC:               </th> <td>4.003e+04</td>\n",
       "</tr>\n",
       "<tr>\n",
       "  <th>Df Model:</th>              <td>     2</td>      <th>                     </th>     <td> </td>    \n",
       "</tr>\n",
       "<tr>\n",
       "  <th>Covariance Type:</th>      <td>nonrobust</td>    <th>                     </th>     <td> </td>    \n",
       "</tr>\n",
       "</table>\n",
       "<table class=\"simpletable\">\n",
       "<tr>\n",
       "       <td></td>          <th>coef</th>     <th>std err</th>      <th>t</th>      <th>P>|t|</th>  <th>[0.025</th>    <th>0.975]</th>  \n",
       "</tr>\n",
       "<tr>\n",
       "  <th>const</th>       <td>-1.263e+08</td> <td> 2.05e+07</td> <td>   -6.146</td> <td> 0.000</td> <td>-1.67e+08</td> <td>-8.59e+07</td>\n",
       "</tr>\n",
       "<tr>\n",
       "  <th>IMDb Rating</th> <td> 2.901e+07</td> <td> 4.34e+06</td> <td>    6.692</td> <td> 0.000</td> <td> 2.05e+07</td> <td> 3.75e+07</td>\n",
       "</tr>\n",
       "<tr>\n",
       "  <th>Metascore</th>   <td>-7.349e+04</td> <td> 2.34e+05</td> <td>   -0.315</td> <td> 0.753</td> <td>-5.32e+05</td> <td> 3.85e+05</td>\n",
       "</tr>\n",
       "</table>\n",
       "<table class=\"simpletable\">\n",
       "<tr>\n",
       "  <th>Omnibus:</th>       <td>719.680</td> <th>  Durbin-Watson:     </th> <td>   1.370</td> \n",
       "</tr>\n",
       "<tr>\n",
       "  <th>Prob(Omnibus):</th> <td> 0.000</td>  <th>  Jarque-Bera (JB):  </th> <td>12911.763</td>\n",
       "</tr>\n",
       "<tr>\n",
       "  <th>Skew:</th>          <td> 3.047</td>  <th>  Prob(JB):          </th> <td>    0.00</td> \n",
       "</tr>\n",
       "<tr>\n",
       "  <th>Kurtosis:</th>      <td>19.357</td>  <th>  Cond. No.          </th> <td>    446.</td> \n",
       "</tr>\n",
       "</table><br/><br/>Warnings:<br/>[1] Standard Errors assume that the covariance matrix of the errors is correctly specified."
      ],
      "text/plain": [
       "<class 'statsmodels.iolib.summary.Summary'>\n",
       "\"\"\"\n",
       "                            OLS Regression Results                            \n",
       "==============================================================================\n",
       "Dep. Variable:             Box Office   R-squared:                       0.083\n",
       "Model:                            OLS   Adj. R-squared:                  0.081\n",
       "Method:                 Least Squares   F-statistic:                     45.70\n",
       "Date:                Thu, 07 Mar 2019   Prob (F-statistic):           9.92e-20\n",
       "Time:                        11:21:59   Log-Likelihood:                -20004.\n",
       "No. Observations:                1017   AIC:                         4.001e+04\n",
       "Df Residuals:                    1014   BIC:                         4.003e+04\n",
       "Df Model:                           2                                         \n",
       "Covariance Type:            nonrobust                                         \n",
       "===============================================================================\n",
       "                  coef    std err          t      P>|t|      [0.025      0.975]\n",
       "-------------------------------------------------------------------------------\n",
       "const       -1.263e+08   2.05e+07     -6.146      0.000   -1.67e+08   -8.59e+07\n",
       "IMDb Rating  2.901e+07   4.34e+06      6.692      0.000    2.05e+07    3.75e+07\n",
       "Metascore   -7.349e+04   2.34e+05     -0.315      0.753   -5.32e+05    3.85e+05\n",
       "==============================================================================\n",
       "Omnibus:                      719.680   Durbin-Watson:                   1.370\n",
       "Prob(Omnibus):                  0.000   Jarque-Bera (JB):            12911.763\n",
       "Skew:                           3.047   Prob(JB):                         0.00\n",
       "Kurtosis:                      19.357   Cond. No.                         446.\n",
       "==============================================================================\n",
       "\n",
       "Warnings:\n",
       "[1] Standard Errors assume that the covariance matrix of the errors is correctly specified.\n",
       "\"\"\""
      ]
     },
     "execution_count": 9,
     "metadata": {},
     "output_type": "execute_result"
    }
   ],
   "source": [
    "X = movies[['IMDb Rating', 'Metascore']]\n",
    "y = movies['Box Office']\n",
    "\n",
    "X = sm.add_constant(X)\n",
    "est = sm.OLS(y, X).fit()\n",
    "\n",
    "est.summary()\n"
   ]
  },
  {
   "cell_type": "markdown",
   "metadata": {},
   "source": [
    "## Observations\n",
    "\n",
    "After including both variables in the model, we can see that the critic's ratings (Metascore) is no longer significant.\n",
    "\n",
    "Even though user rating is found to be significant, this modle only has an adjusted R-squared of 0.081, meaning that only 8.3% of the variability is explained by the model.\n",
    "\n",
    "As such, we should try to maximize the user rating of our film.\n"
   ]
  },
  {
   "cell_type": "markdown",
   "metadata": {},
   "source": [
    "# ------------------------------------------------------------------------------"
   ]
  },
  {
   "cell_type": "markdown",
   "metadata": {},
   "source": [
    "# 2. Analysis of Genres\n",
    "\n",
    "We want to see whether the genres between movies have an affect on average box office earnings.\n",
    "\n",
    "If so, we want to see which genres lead to the biggest earnings.\n",
    "\n",
    "This will allow us to narrow down which genres are most popular."
   ]
  },
  {
   "cell_type": "code",
   "execution_count": 10,
   "metadata": {},
   "outputs": [
    {
     "data": {
      "text/html": [
       "<div>\n",
       "<style scoped>\n",
       "    .dataframe tbody tr th:only-of-type {\n",
       "        vertical-align: middle;\n",
       "    }\n",
       "\n",
       "    .dataframe tbody tr th {\n",
       "        vertical-align: top;\n",
       "    }\n",
       "\n",
       "    .dataframe thead th {\n",
       "        text-align: right;\n",
       "    }\n",
       "</style>\n",
       "<table border=\"1\" class=\"dataframe\">\n",
       "  <thead>\n",
       "    <tr style=\"text-align: right;\">\n",
       "      <th></th>\n",
       "      <th>IMDb ID</th>\n",
       "      <th>Title</th>\n",
       "      <th>Runtime (mins)</th>\n",
       "      <th>Year</th>\n",
       "      <th>Genres</th>\n",
       "      <th>Release Date</th>\n",
       "      <th>IMDb Rating</th>\n",
       "      <th>Metascore</th>\n",
       "      <th>Rating</th>\n",
       "      <th>Box Office</th>\n",
       "    </tr>\n",
       "  </thead>\n",
       "  <tbody>\n",
       "    <tr>\n",
       "      <th>0</th>\n",
       "      <td>tt1872181</td>\n",
       "      <td>The Amazing Spider-Man 2</td>\n",
       "      <td>142</td>\n",
       "      <td>2014</td>\n",
       "      <td>Action, Adventure, Sci-Fi</td>\n",
       "      <td>4/10/2014</td>\n",
       "      <td>6.6</td>\n",
       "      <td>53</td>\n",
       "      <td>PG-13</td>\n",
       "      <td>183277573</td>\n",
       "    </tr>\n",
       "    <tr>\n",
       "      <th>1</th>\n",
       "      <td>tt1323594</td>\n",
       "      <td>Despicable Me</td>\n",
       "      <td>95</td>\n",
       "      <td>2010</td>\n",
       "      <td>Animation, Comedy, Family, Fantasy</td>\n",
       "      <td>6/20/2010</td>\n",
       "      <td>7.7</td>\n",
       "      <td>72</td>\n",
       "      <td>PG</td>\n",
       "      <td>251476985</td>\n",
       "    </tr>\n",
       "    <tr>\n",
       "      <th>2</th>\n",
       "      <td>tt1375670</td>\n",
       "      <td>Grown Ups</td>\n",
       "      <td>102</td>\n",
       "      <td>2010</td>\n",
       "      <td>Comedy</td>\n",
       "      <td>6/24/2010</td>\n",
       "      <td>6.0</td>\n",
       "      <td>30</td>\n",
       "      <td>PG-13</td>\n",
       "      <td>162001186</td>\n",
       "    </tr>\n",
       "    <tr>\n",
       "      <th>3</th>\n",
       "      <td>tt0892769</td>\n",
       "      <td>How to Train Your Dragon</td>\n",
       "      <td>98</td>\n",
       "      <td>2010</td>\n",
       "      <td>Animation, Action, Adventure, Family, Fantasy</td>\n",
       "      <td>3/18/2010</td>\n",
       "      <td>8.1</td>\n",
       "      <td>74</td>\n",
       "      <td>PG</td>\n",
       "      <td>216900000</td>\n",
       "    </tr>\n",
       "    <tr>\n",
       "      <th>4</th>\n",
       "      <td>tt1375666</td>\n",
       "      <td>Inception</td>\n",
       "      <td>148</td>\n",
       "      <td>2010</td>\n",
       "      <td>Action, Adventure, Sci-Fi, Thriller</td>\n",
       "      <td>7/8/2010</td>\n",
       "      <td>8.8</td>\n",
       "      <td>74</td>\n",
       "      <td>PG-13</td>\n",
       "      <td>292568851</td>\n",
       "    </tr>\n",
       "  </tbody>\n",
       "</table>\n",
       "</div>"
      ],
      "text/plain": [
       "     IMDb ID                     Title  Runtime (mins)  Year  \\\n",
       "0  tt1872181  The Amazing Spider-Man 2             142  2014   \n",
       "1  tt1323594             Despicable Me              95  2010   \n",
       "2  tt1375670                 Grown Ups             102  2010   \n",
       "3  tt0892769  How to Train Your Dragon              98  2010   \n",
       "4  tt1375666                 Inception             148  2010   \n",
       "\n",
       "                                          Genres Release Date  IMDb Rating  \\\n",
       "0                      Action, Adventure, Sci-Fi    4/10/2014          6.6   \n",
       "1             Animation, Comedy, Family, Fantasy    6/20/2010          7.7   \n",
       "2                                         Comedy    6/24/2010          6.0   \n",
       "3  Animation, Action, Adventure, Family, Fantasy    3/18/2010          8.1   \n",
       "4            Action, Adventure, Sci-Fi, Thriller     7/8/2010          8.8   \n",
       "\n",
       "   Metascore Rating  Box Office  \n",
       "0         53  PG-13   183277573  \n",
       "1         72     PG   251476985  \n",
       "2         30  PG-13   162001186  \n",
       "3         74     PG   216900000  \n",
       "4         74  PG-13   292568851  "
      ]
     },
     "execution_count": 10,
     "metadata": {},
     "output_type": "execute_result"
    }
   ],
   "source": [
    "# File to Load\n",
    "movie_data = \"Movie_Data.csv\"\n",
    "\n",
    "# Read the Movie Data\n",
    "movie = pd.read_csv('Movie_Data.csv')\n",
    "\n",
    "# Display the data table for preview\n",
    "movie.head()"
   ]
  },
  {
   "cell_type": "code",
   "execution_count": 11,
   "metadata": {},
   "outputs": [
    {
     "data": {
      "text/html": [
       "<div>\n",
       "<style scoped>\n",
       "    .dataframe tbody tr th:only-of-type {\n",
       "        vertical-align: middle;\n",
       "    }\n",
       "\n",
       "    .dataframe tbody tr th {\n",
       "        vertical-align: top;\n",
       "    }\n",
       "\n",
       "    .dataframe thead th {\n",
       "        text-align: right;\n",
       "    }\n",
       "</style>\n",
       "<table border=\"1\" class=\"dataframe\">\n",
       "  <thead>\n",
       "    <tr style=\"text-align: right;\">\n",
       "      <th></th>\n",
       "      <th>Genres</th>\n",
       "      <th>Box Office</th>\n",
       "      <th>Year</th>\n",
       "    </tr>\n",
       "  </thead>\n",
       "  <tbody>\n",
       "    <tr>\n",
       "      <th>0</th>\n",
       "      <td>Action, Adventure, Sci-Fi</td>\n",
       "      <td>183277573</td>\n",
       "      <td>2014</td>\n",
       "    </tr>\n",
       "    <tr>\n",
       "      <th>1</th>\n",
       "      <td>Animation, Comedy, Family, Fantasy</td>\n",
       "      <td>251476985</td>\n",
       "      <td>2010</td>\n",
       "    </tr>\n",
       "    <tr>\n",
       "      <th>2</th>\n",
       "      <td>Comedy</td>\n",
       "      <td>162001186</td>\n",
       "      <td>2010</td>\n",
       "    </tr>\n",
       "    <tr>\n",
       "      <th>3</th>\n",
       "      <td>Animation, Action, Adventure, Family, Fantasy</td>\n",
       "      <td>216900000</td>\n",
       "      <td>2010</td>\n",
       "    </tr>\n",
       "    <tr>\n",
       "      <th>4</th>\n",
       "      <td>Action, Adventure, Sci-Fi, Thriller</td>\n",
       "      <td>292568851</td>\n",
       "      <td>2010</td>\n",
       "    </tr>\n",
       "  </tbody>\n",
       "</table>\n",
       "</div>"
      ],
      "text/plain": [
       "                                          Genres  Box Office  Year\n",
       "0                      Action, Adventure, Sci-Fi   183277573  2014\n",
       "1             Animation, Comedy, Family, Fantasy   251476985  2010\n",
       "2                                         Comedy   162001186  2010\n",
       "3  Animation, Action, Adventure, Family, Fantasy   216900000  2010\n",
       "4            Action, Adventure, Sci-Fi, Thriller   292568851  2010"
      ]
     },
     "execution_count": 11,
     "metadata": {},
     "output_type": "execute_result"
    }
   ],
   "source": [
    "#Extract relevant columns\n",
    "movie = movie[['Genres', 'Box Office', 'Year']]\n",
    "movie.head()"
   ]
  },
  {
   "cell_type": "code",
   "execution_count": 12,
   "metadata": {},
   "outputs": [],
   "source": [
    "genre_set = set()\n",
    "for row in movie['Genres'].str.split(\", \"):\n",
    "    for genre in row:\n",
    "        if genre not in genre_set:\n",
    "            genre_set.add(genre)"
   ]
  },
  {
   "cell_type": "code",
   "execution_count": 13,
   "metadata": {},
   "outputs": [],
   "source": [
    "genre_set = list(genre_set)"
   ]
  },
  {
   "cell_type": "code",
   "execution_count": 14,
   "metadata": {},
   "outputs": [],
   "source": [
    "# Create a list \n",
    "averages_list = []\n",
    "for genre in genre_set:\n",
    "    mask = movie[\"Genres\"].str.contains(f'{genre}')==True\n",
    "    avg = movie[mask][\"Box Office\"].mean()\n",
    "    averages_list.append(avg)"
   ]
  },
  {
   "cell_type": "code",
   "execution_count": 15,
   "metadata": {},
   "outputs": [
    {
     "data": {
      "text/plain": [
       "[26.34676623214286,\n",
       " 0.061153,\n",
       " 122.88188585526316,\n",
       " 42.21486465384615,\n",
       " 42.86875228703704,\n",
       " 57.635095642857145,\n",
       " 61.16326675,\n",
       " 46.52079175884245,\n",
       " 35.24443222767857,\n",
       " 22.54826979761905,\n",
       " 52.621246884514434,\n",
       " 138.4912569032258,\n",
       " 25.05508141860465,\n",
       " 115.78014762727273,\n",
       " 51.67360983636364,\n",
       " 129.59390039215688,\n",
       " 113.4111595549133,\n",
       " 35.3096476626506,\n",
       " 111.68704716666667,\n",
       " 95.066479,\n",
       " 29.383784037313433,\n",
       " 2.98926508]"
      ]
     },
     "execution_count": 15,
     "metadata": {},
     "output_type": "execute_result"
    }
   ],
   "source": [
    "# Covert Box Office to millions\n",
    "averages_list = [x/1000000 for x in averages_list]\n",
    "averages_list"
   ]
  },
  {
   "cell_type": "code",
   "execution_count": 16,
   "metadata": {},
   "outputs": [
    {
     "data": {
      "text/plain": [
       "['Horror',\n",
       " 'News',\n",
       " 'Sci-Fi',\n",
       " 'Sport',\n",
       " 'Mystery',\n",
       " 'Western',\n",
       " 'War',\n",
       " 'Thriller',\n",
       " 'Romance',\n",
       " 'Biography',\n",
       " 'Comedy',\n",
       " 'Animation',\n",
       " 'History',\n",
       " 'Family',\n",
       " 'Music',\n",
       " 'Adventure',\n",
       " 'Fantasy',\n",
       " 'Crime',\n",
       " 'Musical',\n",
       " 'Action',\n",
       " 'Drama',\n",
       " 'Documentary']"
      ]
     },
     "execution_count": 16,
     "metadata": {},
     "output_type": "execute_result"
    }
   ],
   "source": [
    "# Show Genres\n",
    "genre_set"
   ]
  },
  {
   "cell_type": "code",
   "execution_count": 17,
   "metadata": {},
   "outputs": [
    {
     "data": {
      "image/png": "[encoded data removed]",
      "text/plain": [
       "<Figure size 432x288 with 1 Axes>"
      ]
     },
     "metadata": {
      "needs_background": "light"
     },
     "output_type": "display_data"
    }
   ],
   "source": [
    "# Bar Chart to identify top Genres\n",
    "sns.barplot(genre_set, averages_list)\n",
    "sns.despine()\n",
    "plt.xticks(rotation=90);\n",
    "\n",
    "# Add labels to the x and y axes\n",
    "plt.title(\"Top Genres in Box Office\")\n",
    "plt.xlabel(\"Genres\")\n",
    "plt.ylabel(\"Average Box Office (in millions)\")\n",
    "\n",
    "# Set your grid\n",
    "plt.grid()\n",
    "\n",
    "# Save the plot and display it\n",
    "plt.savefig(\"Analysis Charts/2. Genres/Top_Genres.png\")\n",
    "\n",
    "# Show figure\n",
    "plt.show()"
   ]
  },
  {
   "cell_type": "code",
   "execution_count": 18,
   "metadata": {},
   "outputs": [
    {
     "data": {
      "text/html": [
       "<div>\n",
       "<style scoped>\n",
       "    .dataframe tbody tr th:only-of-type {\n",
       "        vertical-align: middle;\n",
       "    }\n",
       "\n",
       "    .dataframe tbody tr th {\n",
       "        vertical-align: top;\n",
       "    }\n",
       "\n",
       "    .dataframe thead th {\n",
       "        text-align: right;\n",
       "    }\n",
       "</style>\n",
       "<table border=\"1\" class=\"dataframe\">\n",
       "  <thead>\n",
       "    <tr style=\"text-align: right;\">\n",
       "      <th></th>\n",
       "      <th>Genres</th>\n",
       "      <th>Box Office</th>\n",
       "      <th>Year</th>\n",
       "    </tr>\n",
       "  </thead>\n",
       "  <tbody>\n",
       "    <tr>\n",
       "      <th>1</th>\n",
       "      <td>Animation, Comedy, Family, Fantasy</td>\n",
       "      <td>251476985</td>\n",
       "      <td>2010</td>\n",
       "    </tr>\n",
       "    <tr>\n",
       "      <th>3</th>\n",
       "      <td>Animation, Action, Adventure, Family, Fantasy</td>\n",
       "      <td>216900000</td>\n",
       "      <td>2010</td>\n",
       "    </tr>\n",
       "    <tr>\n",
       "      <th>10</th>\n",
       "      <td>Animation, Adventure, Comedy, Family, Fantasy</td>\n",
       "      <td>414984497</td>\n",
       "      <td>2010</td>\n",
       "    </tr>\n",
       "    <tr>\n",
       "      <th>26</th>\n",
       "      <td>Animation, Adventure, Comedy, Family, Fantasy</td>\n",
       "      <td>237282182</td>\n",
       "      <td>2012</td>\n",
       "    </tr>\n",
       "    <tr>\n",
       "      <th>40</th>\n",
       "      <td>Animation, Comedy, Family, Fantasy</td>\n",
       "      <td>148280635</td>\n",
       "      <td>2012</td>\n",
       "    </tr>\n",
       "  </tbody>\n",
       "</table>\n",
       "</div>"
      ],
      "text/plain": [
       "                                           Genres  Box Office  Year\n",
       "1              Animation, Comedy, Family, Fantasy   251476985  2010\n",
       "3   Animation, Action, Adventure, Family, Fantasy   216900000  2010\n",
       "10  Animation, Adventure, Comedy, Family, Fantasy   414984497  2010\n",
       "26  Animation, Adventure, Comedy, Family, Fantasy   237282182  2012\n",
       "40             Animation, Comedy, Family, Fantasy   148280635  2012"
      ]
     },
     "execution_count": 18,
     "metadata": {},
     "output_type": "execute_result"
    }
   ],
   "source": [
    "#Plot changes over time with a Line graph\n",
    "\n",
    "Animation = movie[movie[\"Genres\"].str.contains(\"Animation\")]\n",
    "\n",
    "Animation.head()"
   ]
  },
  {
   "cell_type": "code",
   "execution_count": 19,
   "metadata": {},
   "outputs": [],
   "source": [
    "animation2010 = Animation[\"Box Office\"][Animation[\"Year\"] == 2010].mean()\n",
    "animation2011 = Animation[\"Box Office\"][Animation[\"Year\"] == 2011].mean()\n",
    "animation2012 = Animation[\"Box Office\"][Animation[\"Year\"] == 2012].mean()\n",
    "animation2013 = Animation[\"Box Office\"][Animation[\"Year\"] == 2013].mean()\n",
    "animation2014 = Animation[\"Box Office\"][Animation[\"Year\"] == 2014].mean()\n",
    "animation2015 = Animation[\"Box Office\"][Animation[\"Year\"] == 2015].mean()\n",
    "animation2016 = Animation[\"Box Office\"][Animation[\"Year\"] == 2016].mean()"
   ]
  },
  {
   "cell_type": "code",
   "execution_count": 20,
   "metadata": {},
   "outputs": [
    {
     "data": {
      "text/html": [
       "<div>\n",
       "<style scoped>\n",
       "    .dataframe tbody tr th:only-of-type {\n",
       "        vertical-align: middle;\n",
       "    }\n",
       "\n",
       "    .dataframe tbody tr th {\n",
       "        vertical-align: top;\n",
       "    }\n",
       "\n",
       "    .dataframe thead th {\n",
       "        text-align: right;\n",
       "    }\n",
       "</style>\n",
       "<table border=\"1\" class=\"dataframe\">\n",
       "  <thead>\n",
       "    <tr style=\"text-align: right;\">\n",
       "      <th></th>\n",
       "      <th>Genres</th>\n",
       "      <th>Box Office</th>\n",
       "      <th>Year</th>\n",
       "    </tr>\n",
       "  </thead>\n",
       "  <tbody>\n",
       "    <tr>\n",
       "      <th>0</th>\n",
       "      <td>Action, Adventure, Sci-Fi</td>\n",
       "      <td>183277573</td>\n",
       "      <td>2014</td>\n",
       "    </tr>\n",
       "    <tr>\n",
       "      <th>3</th>\n",
       "      <td>Animation, Action, Adventure, Family, Fantasy</td>\n",
       "      <td>216900000</td>\n",
       "      <td>2010</td>\n",
       "    </tr>\n",
       "    <tr>\n",
       "      <th>4</th>\n",
       "      <td>Action, Adventure, Sci-Fi, Thriller</td>\n",
       "      <td>292568851</td>\n",
       "      <td>2010</td>\n",
       "    </tr>\n",
       "    <tr>\n",
       "      <th>5</th>\n",
       "      <td>Action, Adventure, Sci-Fi</td>\n",
       "      <td>312057433</td>\n",
       "      <td>2010</td>\n",
       "    </tr>\n",
       "    <tr>\n",
       "      <th>9</th>\n",
       "      <td>Action, Adventure, Fantasy, Sci-Fi</td>\n",
       "      <td>172051787</td>\n",
       "      <td>2010</td>\n",
       "    </tr>\n",
       "  </tbody>\n",
       "</table>\n",
       "</div>"
      ],
      "text/plain": [
       "                                          Genres  Box Office  Year\n",
       "0                      Action, Adventure, Sci-Fi   183277573  2014\n",
       "3  Animation, Action, Adventure, Family, Fantasy   216900000  2010\n",
       "4            Action, Adventure, Sci-Fi, Thriller   292568851  2010\n",
       "5                      Action, Adventure, Sci-Fi   312057433  2010\n",
       "9             Action, Adventure, Fantasy, Sci-Fi   172051787  2010"
      ]
     },
     "execution_count": 20,
     "metadata": {},
     "output_type": "execute_result"
    }
   ],
   "source": [
    "Adventure = movie[movie[\"Genres\"].str.contains(\"Adventure\")]\n",
    "\n",
    "Adventure.head()"
   ]
  },
  {
   "cell_type": "code",
   "execution_count": 21,
   "metadata": {},
   "outputs": [],
   "source": [
    "adventure2010 = Adventure[\"Box Office\"][Adventure[\"Year\"] == 2010].mean()\n",
    "adventure2011 = Adventure[\"Box Office\"][Adventure[\"Year\"] == 2011].mean()\n",
    "adventure2012 = Adventure[\"Box Office\"][Adventure[\"Year\"] == 2012].mean()\n",
    "adventure2013 = Adventure[\"Box Office\"][Adventure[\"Year\"] == 2013].mean()\n",
    "adventure2014 = Adventure[\"Box Office\"][Adventure[\"Year\"] == 2014].mean()\n",
    "adventure2015 = Adventure[\"Box Office\"][Adventure[\"Year\"] == 2015].mean()\n",
    "adventure2016 = Adventure[\"Box Office\"][Adventure[\"Year\"] == 2016].mean()"
   ]
  },
  {
   "cell_type": "code",
   "execution_count": 22,
   "metadata": {},
   "outputs": [
    {
     "data": {
      "text/html": [
       "<div>\n",
       "<style scoped>\n",
       "    .dataframe tbody tr th:only-of-type {\n",
       "        vertical-align: middle;\n",
       "    }\n",
       "\n",
       "    .dataframe tbody tr th {\n",
       "        vertical-align: top;\n",
       "    }\n",
       "\n",
       "    .dataframe thead th {\n",
       "        text-align: right;\n",
       "    }\n",
       "</style>\n",
       "<table border=\"1\" class=\"dataframe\">\n",
       "  <thead>\n",
       "    <tr style=\"text-align: right;\">\n",
       "      <th></th>\n",
       "      <th>Genres</th>\n",
       "      <th>Box Office</th>\n",
       "      <th>Year</th>\n",
       "    </tr>\n",
       "  </thead>\n",
       "  <tbody>\n",
       "    <tr>\n",
       "      <th>0</th>\n",
       "      <td>Action, Adventure, Sci-Fi</td>\n",
       "      <td>183277573</td>\n",
       "      <td>2014</td>\n",
       "    </tr>\n",
       "    <tr>\n",
       "      <th>4</th>\n",
       "      <td>Action, Adventure, Sci-Fi, Thriller</td>\n",
       "      <td>292568851</td>\n",
       "      <td>2010</td>\n",
       "    </tr>\n",
       "    <tr>\n",
       "      <th>5</th>\n",
       "      <td>Action, Adventure, Sci-Fi</td>\n",
       "      <td>312057433</td>\n",
       "      <td>2010</td>\n",
       "    </tr>\n",
       "    <tr>\n",
       "      <th>9</th>\n",
       "      <td>Action, Adventure, Fantasy, Sci-Fi</td>\n",
       "      <td>172051787</td>\n",
       "      <td>2010</td>\n",
       "    </tr>\n",
       "    <tr>\n",
       "      <th>14</th>\n",
       "      <td>Mystery, Sci-Fi, Thriller</td>\n",
       "      <td>79230923</td>\n",
       "      <td>2011</td>\n",
       "    </tr>\n",
       "  </tbody>\n",
       "</table>\n",
       "</div>"
      ],
      "text/plain": [
       "                                 Genres  Box Office  Year\n",
       "0             Action, Adventure, Sci-Fi   183277573  2014\n",
       "4   Action, Adventure, Sci-Fi, Thriller   292568851  2010\n",
       "5             Action, Adventure, Sci-Fi   312057433  2010\n",
       "9    Action, Adventure, Fantasy, Sci-Fi   172051787  2010\n",
       "14            Mystery, Sci-Fi, Thriller    79230923  2011"
      ]
     },
     "execution_count": 22,
     "metadata": {},
     "output_type": "execute_result"
    }
   ],
   "source": [
    "SciFi = movie[movie[\"Genres\"].str.contains(\"Sci-Fi\")]\n",
    "\n",
    "SciFi.head()"
   ]
  },
  {
   "cell_type": "code",
   "execution_count": 23,
   "metadata": {},
   "outputs": [],
   "source": [
    "scifi2010 = SciFi[\"Box Office\"][SciFi[\"Year\"] == 2010].mean()\n",
    "scifi2011 = SciFi[\"Box Office\"][SciFi[\"Year\"] == 2011].mean()\n",
    "scifi2012 = SciFi[\"Box Office\"][SciFi[\"Year\"] == 2012].mean()\n",
    "scifi2013 = SciFi[\"Box Office\"][SciFi[\"Year\"] == 2013].mean()\n",
    "scifi2014 = SciFi[\"Box Office\"][SciFi[\"Year\"] == 2014].mean()\n",
    "scifi2015 = SciFi[\"Box Office\"][SciFi[\"Year\"] == 2016].mean()\n",
    "scifi2016 = SciFi[\"Box Office\"][SciFi[\"Year\"] == 2016].mean()"
   ]
  },
  {
   "cell_type": "code",
   "execution_count": 24,
   "metadata": {},
   "outputs": [
    {
     "data": {
      "text/html": [
       "<div>\n",
       "<style scoped>\n",
       "    .dataframe tbody tr th:only-of-type {\n",
       "        vertical-align: middle;\n",
       "    }\n",
       "\n",
       "    .dataframe tbody tr th {\n",
       "        vertical-align: top;\n",
       "    }\n",
       "\n",
       "    .dataframe thead th {\n",
       "        text-align: right;\n",
       "    }\n",
       "</style>\n",
       "<table border=\"1\" class=\"dataframe\">\n",
       "  <thead>\n",
       "    <tr style=\"text-align: right;\">\n",
       "      <th></th>\n",
       "      <th>Genres</th>\n",
       "      <th>Box Office</th>\n",
       "      <th>Year</th>\n",
       "    </tr>\n",
       "  </thead>\n",
       "  <tbody>\n",
       "    <tr>\n",
       "      <th>1</th>\n",
       "      <td>Animation, Comedy, Family, Fantasy</td>\n",
       "      <td>251476985</td>\n",
       "      <td>2010</td>\n",
       "    </tr>\n",
       "    <tr>\n",
       "      <th>3</th>\n",
       "      <td>Animation, Action, Adventure, Family, Fantasy</td>\n",
       "      <td>216900000</td>\n",
       "      <td>2010</td>\n",
       "    </tr>\n",
       "    <tr>\n",
       "      <th>10</th>\n",
       "      <td>Animation, Adventure, Comedy, Family, Fantasy</td>\n",
       "      <td>414984497</td>\n",
       "      <td>2010</td>\n",
       "    </tr>\n",
       "    <tr>\n",
       "      <th>26</th>\n",
       "      <td>Animation, Adventure, Comedy, Family, Fantasy</td>\n",
       "      <td>237282182</td>\n",
       "      <td>2012</td>\n",
       "    </tr>\n",
       "    <tr>\n",
       "      <th>39</th>\n",
       "      <td>Adventure, Family, Fantasy</td>\n",
       "      <td>303001229</td>\n",
       "      <td>2012</td>\n",
       "    </tr>\n",
       "  </tbody>\n",
       "</table>\n",
       "</div>"
      ],
      "text/plain": [
       "                                           Genres  Box Office  Year\n",
       "1              Animation, Comedy, Family, Fantasy   251476985  2010\n",
       "3   Animation, Action, Adventure, Family, Fantasy   216900000  2010\n",
       "10  Animation, Adventure, Comedy, Family, Fantasy   414984497  2010\n",
       "26  Animation, Adventure, Comedy, Family, Fantasy   237282182  2012\n",
       "39                     Adventure, Family, Fantasy   303001229  2012"
      ]
     },
     "execution_count": 24,
     "metadata": {},
     "output_type": "execute_result"
    }
   ],
   "source": [
    "Family = movie[movie[\"Genres\"].str.contains(\"Family\")]\n",
    "\n",
    "Family.head()"
   ]
  },
  {
   "cell_type": "code",
   "execution_count": 25,
   "metadata": {},
   "outputs": [],
   "source": [
    "family2010 = Family[\"Box Office\"][Family[\"Year\"] == 2010].mean()\n",
    "family2011 = Family[\"Box Office\"][Family[\"Year\"] == 2011].mean()\n",
    "family2012 = Family[\"Box Office\"][Family[\"Year\"] == 2012].mean()\n",
    "family2013 = Family[\"Box Office\"][Family[\"Year\"] == 2013].mean()\n",
    "family2014 = Family[\"Box Office\"][Family[\"Year\"] == 2014].mean()\n",
    "family2015 = Family[\"Box Office\"][Family[\"Year\"] == 2016].mean()\n",
    "family2016 = Family[\"Box Office\"][Family[\"Year\"] == 2016].mean()"
   ]
  },
  {
   "cell_type": "code",
   "execution_count": 26,
   "metadata": {},
   "outputs": [],
   "source": [
    "Years = ['2010', '2011', '2012', '2013', '2014', '2015', '2016']\n",
    "animation_list = [animation2010, animation2011, animation2012, animation2013, animation2014, animation2015, animation2016]\n",
    "adventure_list = [adventure2010, adventure2011, adventure2012, adventure2013, adventure2014, adventure2015, adventure2016]\n",
    "scifi_list = [scifi2010, scifi2011, scifi2012, scifi2013, scifi2014, scifi2015, scifi2016]\n",
    "family_list = [family2010, family2011, family2012, family2013, family2014, family2015, family2016]"
   ]
  },
  {
   "cell_type": "code",
   "execution_count": 27,
   "metadata": {},
   "outputs": [
    {
     "data": {
      "image/png": "[encoded data removed]",
      "text/plain": [
       "<Figure size 432x288 with 1 Axes>"
      ]
     },
     "metadata": {
      "needs_background": "light"
     },
     "output_type": "display_data"
    }
   ],
   "source": [
    "# Line chart to identify top Genres over Years\n",
    "sns.lineplot(x= Years, y= animation_list, label = \"Animation\")\n",
    "sns.lineplot(x= Years, y=adventure_list, label = \"Adventure\")\n",
    "sns.lineplot(x= Years, y=scifi_list, label = \"Sci-Fi\")\n",
    "sns.lineplot(x= Years, y=family_list, label = \"Family\")\n",
    "\n",
    "# Add labels to the x and y axes\n",
    "plt.title(\"Top Genres in Box Office from 2010 to 2016\")\n",
    "plt.xlabel(\"Year\")\n",
    "plt.ylabel(\"Average Box Office (in millions)\")\n",
    "\n",
    "# Set your grid\n",
    "plt.grid()\n",
    "\n",
    "# Save the plot and display it\n",
    "plt.savefig(\"Analysis Charts/2. Genres/Top_Genres_Years.png\")\n",
    "\n",
    "# Show figure\n",
    "plt.show()"
   ]
  },
  {
   "cell_type": "markdown",
   "metadata": {},
   "source": [
    "## Observations\n",
    "1) The top four genres based on box office revenue were animation, adventure, sci-fi, and fantasy.\n",
    "\n",
    "2) Animation has the lowest box office revenue in 2015 compared to the other top genres.\n",
    "\n",
    "3) Family genre has the lowest box office revenue compared to the other top genres, but it did had a gradual incline in revenue over the years."
   ]
  },
  {
   "cell_type": "markdown",
   "metadata": {},
   "source": [
    "## Highlight\n",
    "Althought animation was the top genre with the highest box office revenue between 2010 to 2016, it had a lowest box office revenue in 2015 compared to the other top genres."
   ]
  },
  {
   "cell_type": "markdown",
   "metadata": {},
   "source": [
    "# ------------------------------------------------------------------------------"
   ]
  },
  {
   "cell_type": "markdown",
   "metadata": {},
   "source": [
    "# 3. Analysis of MPAA Rating\n",
    "\n",
    "We want to see whether MPAA rating has an affect on the average box office.\n",
    "\n",
    "If so, we want to see which ratings have the best and worst outcomes.\n",
    "\n",
    "This will help determine how graphic users prefer their movies to be.\n"
   ]
  },
  {
   "cell_type": "code",
   "execution_count": 28,
   "metadata": {},
   "outputs": [
    {
     "data": {
      "text/html": [
       "<div>\n",
       "<style scoped>\n",
       "    .dataframe tbody tr th:only-of-type {\n",
       "        vertical-align: middle;\n",
       "    }\n",
       "\n",
       "    .dataframe tbody tr th {\n",
       "        vertical-align: top;\n",
       "    }\n",
       "\n",
       "    .dataframe thead th {\n",
       "        text-align: right;\n",
       "    }\n",
       "</style>\n",
       "<table border=\"1\" class=\"dataframe\">\n",
       "  <thead>\n",
       "    <tr style=\"text-align: right;\">\n",
       "      <th></th>\n",
       "      <th>IMDb ID</th>\n",
       "      <th>Title</th>\n",
       "      <th>Runtime (mins)</th>\n",
       "      <th>Year</th>\n",
       "      <th>Genres</th>\n",
       "      <th>Release Date</th>\n",
       "      <th>IMDb Rating</th>\n",
       "      <th>Metascore</th>\n",
       "      <th>Rating</th>\n",
       "      <th>Box Office</th>\n",
       "    </tr>\n",
       "  </thead>\n",
       "  <tbody>\n",
       "    <tr>\n",
       "      <th>0</th>\n",
       "      <td>tt1872181</td>\n",
       "      <td>The Amazing Spider-Man 2</td>\n",
       "      <td>142</td>\n",
       "      <td>2014</td>\n",
       "      <td>Action, Adventure, Sci-Fi</td>\n",
       "      <td>4/10/2014</td>\n",
       "      <td>6.6</td>\n",
       "      <td>53</td>\n",
       "      <td>PG-13</td>\n",
       "      <td>183277573</td>\n",
       "    </tr>\n",
       "    <tr>\n",
       "      <th>1</th>\n",
       "      <td>tt1323594</td>\n",
       "      <td>Despicable Me</td>\n",
       "      <td>95</td>\n",
       "      <td>2010</td>\n",
       "      <td>Animation, Comedy, Family, Fantasy</td>\n",
       "      <td>6/20/2010</td>\n",
       "      <td>7.7</td>\n",
       "      <td>72</td>\n",
       "      <td>PG</td>\n",
       "      <td>251476985</td>\n",
       "    </tr>\n",
       "    <tr>\n",
       "      <th>2</th>\n",
       "      <td>tt1375670</td>\n",
       "      <td>Grown Ups</td>\n",
       "      <td>102</td>\n",
       "      <td>2010</td>\n",
       "      <td>Comedy</td>\n",
       "      <td>6/24/2010</td>\n",
       "      <td>6.0</td>\n",
       "      <td>30</td>\n",
       "      <td>PG-13</td>\n",
       "      <td>162001186</td>\n",
       "    </tr>\n",
       "    <tr>\n",
       "      <th>3</th>\n",
       "      <td>tt0892769</td>\n",
       "      <td>How to Train Your Dragon</td>\n",
       "      <td>98</td>\n",
       "      <td>2010</td>\n",
       "      <td>Animation, Action, Adventure, Family, Fantasy</td>\n",
       "      <td>3/18/2010</td>\n",
       "      <td>8.1</td>\n",
       "      <td>74</td>\n",
       "      <td>PG</td>\n",
       "      <td>216900000</td>\n",
       "    </tr>\n",
       "    <tr>\n",
       "      <th>4</th>\n",
       "      <td>tt1375666</td>\n",
       "      <td>Inception</td>\n",
       "      <td>148</td>\n",
       "      <td>2010</td>\n",
       "      <td>Action, Adventure, Sci-Fi, Thriller</td>\n",
       "      <td>7/8/2010</td>\n",
       "      <td>8.8</td>\n",
       "      <td>74</td>\n",
       "      <td>PG-13</td>\n",
       "      <td>292568851</td>\n",
       "    </tr>\n",
       "  </tbody>\n",
       "</table>\n",
       "</div>"
      ],
      "text/plain": [
       "     IMDb ID                     Title  Runtime (mins)  Year  \\\n",
       "0  tt1872181  The Amazing Spider-Man 2             142  2014   \n",
       "1  tt1323594             Despicable Me              95  2010   \n",
       "2  tt1375670                 Grown Ups             102  2010   \n",
       "3  tt0892769  How to Train Your Dragon              98  2010   \n",
       "4  tt1375666                 Inception             148  2010   \n",
       "\n",
       "                                          Genres Release Date  IMDb Rating  \\\n",
       "0                      Action, Adventure, Sci-Fi    4/10/2014          6.6   \n",
       "1             Animation, Comedy, Family, Fantasy    6/20/2010          7.7   \n",
       "2                                         Comedy    6/24/2010          6.0   \n",
       "3  Animation, Action, Adventure, Family, Fantasy    3/18/2010          8.1   \n",
       "4            Action, Adventure, Sci-Fi, Thriller     7/8/2010          8.8   \n",
       "\n",
       "   Metascore Rating  Box Office  \n",
       "0         53  PG-13   183277573  \n",
       "1         72     PG   251476985  \n",
       "2         30  PG-13   162001186  \n",
       "3         74     PG   216900000  \n",
       "4         74  PG-13   292568851  "
      ]
     },
     "execution_count": 28,
     "metadata": {},
     "output_type": "execute_result"
    }
   ],
   "source": [
    "#Read clean data\n",
    "movies = pd.read_csv(\"Movie_Data.csv\")\n",
    "movies.head()"
   ]
  },
  {
   "cell_type": "code",
   "execution_count": 29,
   "metadata": {},
   "outputs": [
    {
     "data": {
      "text/html": [
       "<div>\n",
       "<style scoped>\n",
       "    .dataframe tbody tr th:only-of-type {\n",
       "        vertical-align: middle;\n",
       "    }\n",
       "\n",
       "    .dataframe tbody tr th {\n",
       "        vertical-align: top;\n",
       "    }\n",
       "\n",
       "    .dataframe thead th {\n",
       "        text-align: right;\n",
       "    }\n",
       "</style>\n",
       "<table border=\"1\" class=\"dataframe\">\n",
       "  <thead>\n",
       "    <tr style=\"text-align: right;\">\n",
       "      <th></th>\n",
       "      <th>Rating</th>\n",
       "      <th>Box Office</th>\n",
       "    </tr>\n",
       "  </thead>\n",
       "  <tbody>\n",
       "    <tr>\n",
       "      <th>0</th>\n",
       "      <td>PG-13</td>\n",
       "      <td>183277573</td>\n",
       "    </tr>\n",
       "    <tr>\n",
       "      <th>1</th>\n",
       "      <td>PG</td>\n",
       "      <td>251476985</td>\n",
       "    </tr>\n",
       "    <tr>\n",
       "      <th>2</th>\n",
       "      <td>PG-13</td>\n",
       "      <td>162001186</td>\n",
       "    </tr>\n",
       "    <tr>\n",
       "      <th>3</th>\n",
       "      <td>PG</td>\n",
       "      <td>216900000</td>\n",
       "    </tr>\n",
       "    <tr>\n",
       "      <th>4</th>\n",
       "      <td>PG-13</td>\n",
       "      <td>292568851</td>\n",
       "    </tr>\n",
       "  </tbody>\n",
       "</table>\n",
       "</div>"
      ],
      "text/plain": [
       "  Rating  Box Office\n",
       "0  PG-13   183277573\n",
       "1     PG   251476985\n",
       "2  PG-13   162001186\n",
       "3     PG   216900000\n",
       "4  PG-13   292568851"
      ]
     },
     "execution_count": 29,
     "metadata": {},
     "output_type": "execute_result"
    }
   ],
   "source": [
    "#Extract relevant columns\n",
    "mpaa_df = movies[['Rating','Box Office']]\n",
    "mpaa_df.head()"
   ]
  },
  {
   "cell_type": "code",
   "execution_count": 30,
   "metadata": {},
   "outputs": [
    {
     "data": {
      "text/plain": [
       "['PG-13', 'PG', 'R', 'G', 'NC-17', 'Not Rated']"
      ]
     },
     "execution_count": 30,
     "metadata": {},
     "output_type": "execute_result"
    }
   ],
   "source": [
    "#Create x value\n",
    "ratings = []\n",
    "for rating in mpaa_df['Rating']:\n",
    "    if rating not in ratings:\n",
    "        ratings.append(rating)\n",
    "        \n",
    "ratings"
   ]
  },
  {
   "cell_type": "code",
   "execution_count": 31,
   "metadata": {},
   "outputs": [
    {
     "data": {
      "text/plain": [
       "[81.4896013923077,\n",
       " 91.66613701587302,\n",
       " 26.064236822072075,\n",
       " 120.3966333076923,\n",
       " 2.971782,\n",
       " 0.2227295348837209]"
      ]
     },
     "execution_count": 31,
     "metadata": {},
     "output_type": "execute_result"
    }
   ],
   "source": [
    "#Create y value\n",
    "df0 = mpaa_df[mpaa_df['Rating'] == ratings[0]].mean()\n",
    "df1 = mpaa_df[mpaa_df['Rating'] == ratings[1]].mean()\n",
    "df2 = mpaa_df[mpaa_df['Rating'] == ratings[2]].mean()\n",
    "df3 = mpaa_df[mpaa_df['Rating'] == ratings[3]].mean()\n",
    "df4 = mpaa_df[mpaa_df['Rating'] == ratings[4]].mean()\n",
    "df5 = mpaa_df[mpaa_df['Rating'] == ratings[5]].mean()\n",
    "\n",
    "average_box_office = [df0[0],df1[0],df2[0],df3[0],df4[0], df5[0]]\n",
    "average_box_office = [x/1000000 for x in average_box_office]\n",
    "average_box_office"
   ]
  },
  {
   "cell_type": "code",
   "execution_count": 32,
   "metadata": {},
   "outputs": [
    {
     "data": {
      "text/html": [
       "<div>\n",
       "<style scoped>\n",
       "    .dataframe tbody tr th:only-of-type {\n",
       "        vertical-align: middle;\n",
       "    }\n",
       "\n",
       "    .dataframe tbody tr th {\n",
       "        vertical-align: top;\n",
       "    }\n",
       "\n",
       "    .dataframe thead th {\n",
       "        text-align: right;\n",
       "    }\n",
       "</style>\n",
       "<table border=\"1\" class=\"dataframe\">\n",
       "  <thead>\n",
       "    <tr style=\"text-align: right;\">\n",
       "      <th></th>\n",
       "      <th>Rating</th>\n",
       "      <th>Average Box Office (millions)</th>\n",
       "    </tr>\n",
       "  </thead>\n",
       "  <tbody>\n",
       "    <tr>\n",
       "      <th>0</th>\n",
       "      <td>PG-13</td>\n",
       "      <td>81.489601</td>\n",
       "    </tr>\n",
       "    <tr>\n",
       "      <th>1</th>\n",
       "      <td>PG</td>\n",
       "      <td>91.666137</td>\n",
       "    </tr>\n",
       "    <tr>\n",
       "      <th>2</th>\n",
       "      <td>R</td>\n",
       "      <td>26.064237</td>\n",
       "    </tr>\n",
       "    <tr>\n",
       "      <th>3</th>\n",
       "      <td>G</td>\n",
       "      <td>120.396633</td>\n",
       "    </tr>\n",
       "    <tr>\n",
       "      <th>4</th>\n",
       "      <td>NC-17</td>\n",
       "      <td>2.971782</td>\n",
       "    </tr>\n",
       "    <tr>\n",
       "      <th>5</th>\n",
       "      <td>Not Rated</td>\n",
       "      <td>0.222730</td>\n",
       "    </tr>\n",
       "  </tbody>\n",
       "</table>\n",
       "</div>"
      ],
      "text/plain": [
       "      Rating  Average Box Office (millions)\n",
       "0      PG-13                      81.489601\n",
       "1         PG                      91.666137\n",
       "2          R                      26.064237\n",
       "3          G                     120.396633\n",
       "4      NC-17                       2.971782\n",
       "5  Not Rated                       0.222730"
      ]
     },
     "execution_count": 32,
     "metadata": {},
     "output_type": "execute_result"
    }
   ],
   "source": [
    "# x and y values as a df\n",
    "data = pd.DataFrame({\"Rating\":ratings,\"Average Box Office (millions)\":average_box_office})\n",
    "data"
   ]
  },
  {
   "cell_type": "code",
   "execution_count": 33,
   "metadata": {},
   "outputs": [
    {
     "data": {
      "text/html": [
       "<div>\n",
       "<style scoped>\n",
       "    .dataframe tbody tr th:only-of-type {\n",
       "        vertical-align: middle;\n",
       "    }\n",
       "\n",
       "    .dataframe tbody tr th {\n",
       "        vertical-align: top;\n",
       "    }\n",
       "\n",
       "    .dataframe thead th {\n",
       "        text-align: right;\n",
       "    }\n",
       "</style>\n",
       "<table border=\"1\" class=\"dataframe\">\n",
       "  <thead>\n",
       "    <tr style=\"text-align: right;\">\n",
       "      <th></th>\n",
       "      <th>Rating</th>\n",
       "      <th>Average Box Office (millions)</th>\n",
       "    </tr>\n",
       "  </thead>\n",
       "  <tbody>\n",
       "    <tr>\n",
       "      <th>0</th>\n",
       "      <td>Not Rated</td>\n",
       "      <td>0.222730</td>\n",
       "    </tr>\n",
       "    <tr>\n",
       "      <th>1</th>\n",
       "      <td>NC-17</td>\n",
       "      <td>2.971782</td>\n",
       "    </tr>\n",
       "    <tr>\n",
       "      <th>2</th>\n",
       "      <td>R</td>\n",
       "      <td>26.064237</td>\n",
       "    </tr>\n",
       "    <tr>\n",
       "      <th>3</th>\n",
       "      <td>PG-13</td>\n",
       "      <td>81.489601</td>\n",
       "    </tr>\n",
       "    <tr>\n",
       "      <th>4</th>\n",
       "      <td>PG</td>\n",
       "      <td>91.666137</td>\n",
       "    </tr>\n",
       "    <tr>\n",
       "      <th>5</th>\n",
       "      <td>G</td>\n",
       "      <td>120.396633</td>\n",
       "    </tr>\n",
       "  </tbody>\n",
       "</table>\n",
       "</div>"
      ],
      "text/plain": [
       "      Rating  Average Box Office (millions)\n",
       "0  Not Rated                       0.222730\n",
       "1      NC-17                       2.971782\n",
       "2          R                      26.064237\n",
       "3      PG-13                      81.489601\n",
       "4         PG                      91.666137\n",
       "5          G                     120.396633"
      ]
     },
     "execution_count": 33,
     "metadata": {},
     "output_type": "execute_result"
    }
   ],
   "source": [
    "# sort data\n",
    "average_box = sorted(data['Average Box Office (millions)'])\n",
    "\n",
    "ratings = ratings\n",
    "ratings = ['Not Rated','NC-17','R','PG-13','PG','G']\n",
    "sorted_data = pd.DataFrame({\"Rating\":ratings,\n",
    "                            \"Average Box Office (millions)\":average_box\n",
    "})\n",
    "sorted_data"
   ]
  },
  {
   "cell_type": "code",
   "execution_count": 34,
   "metadata": {},
   "outputs": [
    {
     "data": {
      "image/png": "[encoded data removed]",
      "text/plain": [
       "<Figure size 720x360 with 1 Axes>"
      ]
     },
     "metadata": {
      "needs_background": "light"
     },
     "output_type": "display_data"
    }
   ],
   "source": [
    "# bar chart showing relation\n",
    "plt.figure(figsize=(10,5))\n",
    "color=['maroon', 'royalblue', 'red','orchid','orange','green']\n",
    "plt.bar(sorted_data['Rating'], sorted_data['Average Box Office (millions)'], color=color,align='center')\n",
    "plt.ylim(0, 140)\n",
    "plt.xlabel(\"MPAA Rating\")\n",
    "plt.ylabel(\"Average Box Office (Millions)\")\n",
    "plt.title(\"MPAA Rating vs Average Box Office\")\n",
    "\n",
    "# Save image\n",
    "plt.savefig(\"Analysis Charts/3. MPAA/MPAA_bar.png\")\n",
    "\n",
    "plt.show()"
   ]
  },
  {
   "cell_type": "code",
   "execution_count": 35,
   "metadata": {},
   "outputs": [
    {
     "data": {
      "image/png": "[encoded data removed]",
      "text/plain": [
       "<Figure size 432x288 with 1 Axes>"
      ]
     },
     "metadata": {},
     "output_type": "display_data"
    }
   ],
   "source": [
    "# pie chart showing relation\n",
    "explode = [0,0,0,0,0,0.1]\n",
    "colors = ['maroon', 'royalblue', 'red','orchid','orange','green']\n",
    "plt.pie(sorted_data['Average Box Office (millions)'],labels=sorted_data['Rating'],colors=colors,explode=explode,autopct=\"%1.1f%%\",shadow=True,pctdistance=0.9,radius=3,startangle=180)\n",
    "plt.title(\"Percent of Movies by Rating\",y=2)\n",
    "\n",
    "# Save image\n",
    "plt.savefig(\"Analysis Charts/3. MPAA/MPAA_pie.png\", bbox_inches='tight')\n",
    "\n",
    "plt.show()"
   ]
  },
  {
   "cell_type": "code",
   "execution_count": 36,
   "metadata": {},
   "outputs": [
    {
     "data": {
      "image/png": "[encoded data removed]",
      "text/plain": [
       "<Figure size 1440x720 with 1 Axes>"
      ]
     },
     "metadata": {
      "needs_background": "light"
     },
     "output_type": "display_data"
    }
   ],
   "source": [
    "# Box plot\n",
    "mpaa_df.boxplot(\"Box Office\", by=\"Rating\", figsize=(20, 10),showmeans=True)\n",
    "\n",
    "# Save image\n",
    "plt.savefig(\"Analysis Charts/3. MPAA/MPAA_box.png\")\n",
    "\n",
    "plt.show()"
   ]
  },
  {
   "cell_type": "code",
   "execution_count": 37,
   "metadata": {},
   "outputs": [
    {
     "data": {
      "text/plain": [
       "F_onewayResult(statistic=29.37724940787404, pvalue=6.545578428438524e-28)"
      ]
     },
     "execution_count": 37,
     "metadata": {},
     "output_type": "execute_result"
    }
   ],
   "source": [
    "# ANOVA test\n",
    "group1 = mpaa_df[mpaa_df[\"Rating\"] == 'Not Rated'][\"Box Office\"]\n",
    "group2 = mpaa_df[mpaa_df[\"Rating\"] == 'NC-17'][\"Box Office\"]\n",
    "group3 = mpaa_df[mpaa_df[\"Rating\"] == 'R'][\"Box Office\"]\n",
    "group4 = mpaa_df[mpaa_df[\"Rating\"] == 'PG-13'][\"Box Office\"]\n",
    "group5 = mpaa_df[mpaa_df[\"Rating\"] == 'PG'][\"Box Office\"]\n",
    "group6 = mpaa_df[mpaa_df[\"Rating\"] == 'G'][\"Box Office\"]\n",
    "\n",
    "stats.f_oneway(group1, group2, group3, group4, group5, group6)"
   ]
  },
  {
   "cell_type": "markdown",
   "metadata": {},
   "source": [
    "# Observation\n",
    "\n",
    "* Based on the data, on average, G movies bring in the most box office revenue\n",
    "\n",
    "* It appears that PG-13 rated movies have the movies with the highest earnings. However it also must have a lot of poorly performing movies as well, bringing the average down.\n",
    "\n",
    "* R rated movies only has 8.1% of the average revenue, likely because of a more narrow audience.\n",
    "\n",
    "* Using the ANOVA test, the pvalue is less than 0.05. The test is significant.\n"
   ]
  },
  {
   "cell_type": "markdown",
   "metadata": {},
   "source": [
    "# ------------------------------------------------------------------------------"
   ]
  },
  {
   "cell_type": "markdown",
   "metadata": {},
   "source": [
    "# 4. Analysis of Box Office Results by Month of Release\n",
    "\n",
    "We want to see if there is a correlation between the money a movie makes at the box office and when the movie is released.\n",
    "\n",
    "This will allow us to determine which the best time of year to release a movie."
   ]
  },
  {
   "cell_type": "code",
   "execution_count": 38,
   "metadata": {},
   "outputs": [
    {
     "data": {
      "text/html": [
       "<div>\n",
       "<style scoped>\n",
       "    .dataframe tbody tr th:only-of-type {\n",
       "        vertical-align: middle;\n",
       "    }\n",
       "\n",
       "    .dataframe tbody tr th {\n",
       "        vertical-align: top;\n",
       "    }\n",
       "\n",
       "    .dataframe thead th {\n",
       "        text-align: right;\n",
       "    }\n",
       "</style>\n",
       "<table border=\"1\" class=\"dataframe\">\n",
       "  <thead>\n",
       "    <tr style=\"text-align: right;\">\n",
       "      <th></th>\n",
       "      <th>IMDb ID</th>\n",
       "      <th>Title</th>\n",
       "      <th>Runtime (mins)</th>\n",
       "      <th>Year</th>\n",
       "      <th>Genres</th>\n",
       "      <th>Release Date</th>\n",
       "      <th>IMDb Rating</th>\n",
       "      <th>Metascore</th>\n",
       "      <th>Rating</th>\n",
       "      <th>Box Office</th>\n",
       "    </tr>\n",
       "  </thead>\n",
       "  <tbody>\n",
       "    <tr>\n",
       "      <th>0</th>\n",
       "      <td>tt1872181</td>\n",
       "      <td>The Amazing Spider-Man 2</td>\n",
       "      <td>142</td>\n",
       "      <td>2014</td>\n",
       "      <td>Action, Adventure, Sci-Fi</td>\n",
       "      <td>4/10/2014</td>\n",
       "      <td>6.6</td>\n",
       "      <td>53</td>\n",
       "      <td>PG-13</td>\n",
       "      <td>183277573</td>\n",
       "    </tr>\n",
       "    <tr>\n",
       "      <th>1</th>\n",
       "      <td>tt1323594</td>\n",
       "      <td>Despicable Me</td>\n",
       "      <td>95</td>\n",
       "      <td>2010</td>\n",
       "      <td>Animation, Comedy, Family, Fantasy</td>\n",
       "      <td>6/20/2010</td>\n",
       "      <td>7.7</td>\n",
       "      <td>72</td>\n",
       "      <td>PG</td>\n",
       "      <td>251476985</td>\n",
       "    </tr>\n",
       "    <tr>\n",
       "      <th>2</th>\n",
       "      <td>tt1375670</td>\n",
       "      <td>Grown Ups</td>\n",
       "      <td>102</td>\n",
       "      <td>2010</td>\n",
       "      <td>Comedy</td>\n",
       "      <td>6/24/2010</td>\n",
       "      <td>6.0</td>\n",
       "      <td>30</td>\n",
       "      <td>PG-13</td>\n",
       "      <td>162001186</td>\n",
       "    </tr>\n",
       "    <tr>\n",
       "      <th>3</th>\n",
       "      <td>tt0892769</td>\n",
       "      <td>How to Train Your Dragon</td>\n",
       "      <td>98</td>\n",
       "      <td>2010</td>\n",
       "      <td>Animation, Action, Adventure, Family, Fantasy</td>\n",
       "      <td>3/18/2010</td>\n",
       "      <td>8.1</td>\n",
       "      <td>74</td>\n",
       "      <td>PG</td>\n",
       "      <td>216900000</td>\n",
       "    </tr>\n",
       "    <tr>\n",
       "      <th>4</th>\n",
       "      <td>tt1375666</td>\n",
       "      <td>Inception</td>\n",
       "      <td>148</td>\n",
       "      <td>2010</td>\n",
       "      <td>Action, Adventure, Sci-Fi, Thriller</td>\n",
       "      <td>7/8/2010</td>\n",
       "      <td>8.8</td>\n",
       "      <td>74</td>\n",
       "      <td>PG-13</td>\n",
       "      <td>292568851</td>\n",
       "    </tr>\n",
       "  </tbody>\n",
       "</table>\n",
       "</div>"
      ],
      "text/plain": [
       "     IMDb ID                     Title  Runtime (mins)  Year  \\\n",
       "0  tt1872181  The Amazing Spider-Man 2             142  2014   \n",
       "1  tt1323594             Despicable Me              95  2010   \n",
       "2  tt1375670                 Grown Ups             102  2010   \n",
       "3  tt0892769  How to Train Your Dragon              98  2010   \n",
       "4  tt1375666                 Inception             148  2010   \n",
       "\n",
       "                                          Genres Release Date  IMDb Rating  \\\n",
       "0                      Action, Adventure, Sci-Fi    4/10/2014          6.6   \n",
       "1             Animation, Comedy, Family, Fantasy    6/20/2010          7.7   \n",
       "2                                         Comedy    6/24/2010          6.0   \n",
       "3  Animation, Action, Adventure, Family, Fantasy    3/18/2010          8.1   \n",
       "4            Action, Adventure, Sci-Fi, Thriller     7/8/2010          8.8   \n",
       "\n",
       "   Metascore Rating  Box Office  \n",
       "0         53  PG-13   183277573  \n",
       "1         72     PG   251476985  \n",
       "2         30  PG-13   162001186  \n",
       "3         74     PG   216900000  \n",
       "4         74  PG-13   292568851  "
      ]
     },
     "execution_count": 38,
     "metadata": {},
     "output_type": "execute_result"
    }
   ],
   "source": [
    "#Read clean data\n",
    "movies = pd.read_csv(\"Movie_Data.csv\")\n",
    "movies.head()"
   ]
  },
  {
   "cell_type": "code",
   "execution_count": 39,
   "metadata": {},
   "outputs": [
    {
     "data": {
      "text/html": [
       "<div>\n",
       "<style scoped>\n",
       "    .dataframe tbody tr th:only-of-type {\n",
       "        vertical-align: middle;\n",
       "    }\n",
       "\n",
       "    .dataframe tbody tr th {\n",
       "        vertical-align: top;\n",
       "    }\n",
       "\n",
       "    .dataframe thead th {\n",
       "        text-align: right;\n",
       "    }\n",
       "</style>\n",
       "<table border=\"1\" class=\"dataframe\">\n",
       "  <thead>\n",
       "    <tr style=\"text-align: right;\">\n",
       "      <th></th>\n",
       "      <th>Title</th>\n",
       "      <th>Release Date</th>\n",
       "      <th>Box Office</th>\n",
       "    </tr>\n",
       "  </thead>\n",
       "  <tbody>\n",
       "    <tr>\n",
       "      <th>0</th>\n",
       "      <td>The Amazing Spider-Man 2</td>\n",
       "      <td>4/10/2014</td>\n",
       "      <td>183277573</td>\n",
       "    </tr>\n",
       "    <tr>\n",
       "      <th>1</th>\n",
       "      <td>Despicable Me</td>\n",
       "      <td>6/20/2010</td>\n",
       "      <td>251476985</td>\n",
       "    </tr>\n",
       "    <tr>\n",
       "      <th>2</th>\n",
       "      <td>Grown Ups</td>\n",
       "      <td>6/24/2010</td>\n",
       "      <td>162001186</td>\n",
       "    </tr>\n",
       "    <tr>\n",
       "      <th>3</th>\n",
       "      <td>How to Train Your Dragon</td>\n",
       "      <td>3/18/2010</td>\n",
       "      <td>216900000</td>\n",
       "    </tr>\n",
       "    <tr>\n",
       "      <th>4</th>\n",
       "      <td>Inception</td>\n",
       "      <td>7/8/2010</td>\n",
       "      <td>292568851</td>\n",
       "    </tr>\n",
       "  </tbody>\n",
       "</table>\n",
       "</div>"
      ],
      "text/plain": [
       "                      Title Release Date  Box Office\n",
       "0  The Amazing Spider-Man 2    4/10/2014   183277573\n",
       "1             Despicable Me    6/20/2010   251476985\n",
       "2                 Grown Ups    6/24/2010   162001186\n",
       "3  How to Train Your Dragon    3/18/2010   216900000\n",
       "4                 Inception     7/8/2010   292568851"
      ]
     },
     "execution_count": 39,
     "metadata": {},
     "output_type": "execute_result"
    }
   ],
   "source": [
    "#Extract relevant columns\n",
    "release = movies[['Title','Release Date','Box Office']]\n",
    "release.head()"
   ]
  },
  {
   "cell_type": "code",
   "execution_count": 40,
   "metadata": {},
   "outputs": [
    {
     "name": "stderr",
     "output_type": "stream",
     "text": [
      "C:\\ProgramData\\Anaconda3\\lib\\site-packages\\ipykernel_launcher.py:2: SettingWithCopyWarning: \n",
      "A value is trying to be set on a copy of a slice from a DataFrame.\n",
      "Try using .loc[row_indexer,col_indexer] = value instead\n",
      "\n",
      "See the caveats in the documentation: http://pandas.pydata.org/pandas-docs/stable/indexing.html#indexing-view-versus-copy\n",
      "  \n"
     ]
    },
    {
     "data": {
      "text/html": [
       "<div>\n",
       "<style scoped>\n",
       "    .dataframe tbody tr th:only-of-type {\n",
       "        vertical-align: middle;\n",
       "    }\n",
       "\n",
       "    .dataframe tbody tr th {\n",
       "        vertical-align: top;\n",
       "    }\n",
       "\n",
       "    .dataframe thead th {\n",
       "        text-align: right;\n",
       "    }\n",
       "</style>\n",
       "<table border=\"1\" class=\"dataframe\">\n",
       "  <thead>\n",
       "    <tr style=\"text-align: right;\">\n",
       "      <th></th>\n",
       "      <th>Title</th>\n",
       "      <th>Release Date</th>\n",
       "      <th>Box Office</th>\n",
       "    </tr>\n",
       "  </thead>\n",
       "  <tbody>\n",
       "    <tr>\n",
       "      <th>0</th>\n",
       "      <td>The Amazing Spider-Man 2</td>\n",
       "      <td>2014-04-10</td>\n",
       "      <td>183277573</td>\n",
       "    </tr>\n",
       "    <tr>\n",
       "      <th>1</th>\n",
       "      <td>Despicable Me</td>\n",
       "      <td>2010-06-20</td>\n",
       "      <td>251476985</td>\n",
       "    </tr>\n",
       "    <tr>\n",
       "      <th>2</th>\n",
       "      <td>Grown Ups</td>\n",
       "      <td>2010-06-24</td>\n",
       "      <td>162001186</td>\n",
       "    </tr>\n",
       "    <tr>\n",
       "      <th>3</th>\n",
       "      <td>How to Train Your Dragon</td>\n",
       "      <td>2010-03-18</td>\n",
       "      <td>216900000</td>\n",
       "    </tr>\n",
       "    <tr>\n",
       "      <th>4</th>\n",
       "      <td>Inception</td>\n",
       "      <td>2010-07-08</td>\n",
       "      <td>292568851</td>\n",
       "    </tr>\n",
       "  </tbody>\n",
       "</table>\n",
       "</div>"
      ],
      "text/plain": [
       "                      Title Release Date  Box Office\n",
       "0  The Amazing Spider-Man 2   2014-04-10   183277573\n",
       "1             Despicable Me   2010-06-20   251476985\n",
       "2                 Grown Ups   2010-06-24   162001186\n",
       "3  How to Train Your Dragon   2010-03-18   216900000\n",
       "4                 Inception   2010-07-08   292568851"
      ]
     },
     "execution_count": 40,
     "metadata": {},
     "output_type": "execute_result"
    }
   ],
   "source": [
    "# Convert release date to datetime\n",
    "release['Release Date'] =  pd.to_datetime(release['Release Date'])\n",
    "release.head()\n"
   ]
  },
  {
   "cell_type": "code",
   "execution_count": 41,
   "metadata": {},
   "outputs": [
    {
     "name": "stderr",
     "output_type": "stream",
     "text": [
      "C:\\ProgramData\\Anaconda3\\lib\\site-packages\\ipykernel_launcher.py:5: SettingWithCopyWarning: \n",
      "A value is trying to be set on a copy of a slice from a DataFrame.\n",
      "Try using .loc[row_indexer,col_indexer] = value instead\n",
      "\n",
      "See the caveats in the documentation: http://pandas.pydata.org/pandas-docs/stable/indexing.html#indexing-view-versus-copy\n",
      "  \"\"\"\n"
     ]
    },
    {
     "data": {
      "text/html": [
       "<div>\n",
       "<style scoped>\n",
       "    .dataframe tbody tr th:only-of-type {\n",
       "        vertical-align: middle;\n",
       "    }\n",
       "\n",
       "    .dataframe tbody tr th {\n",
       "        vertical-align: top;\n",
       "    }\n",
       "\n",
       "    .dataframe thead th {\n",
       "        text-align: right;\n",
       "    }\n",
       "</style>\n",
       "<table border=\"1\" class=\"dataframe\">\n",
       "  <thead>\n",
       "    <tr style=\"text-align: right;\">\n",
       "      <th></th>\n",
       "      <th>Title</th>\n",
       "      <th>Release Date</th>\n",
       "      <th>Box Office</th>\n",
       "      <th>Release Month</th>\n",
       "    </tr>\n",
       "  </thead>\n",
       "  <tbody>\n",
       "    <tr>\n",
       "      <th>0</th>\n",
       "      <td>The Amazing Spider-Man 2</td>\n",
       "      <td>2014-04-10</td>\n",
       "      <td>183277573</td>\n",
       "      <td>4</td>\n",
       "    </tr>\n",
       "    <tr>\n",
       "      <th>1</th>\n",
       "      <td>Despicable Me</td>\n",
       "      <td>2010-06-20</td>\n",
       "      <td>251476985</td>\n",
       "      <td>6</td>\n",
       "    </tr>\n",
       "    <tr>\n",
       "      <th>2</th>\n",
       "      <td>Grown Ups</td>\n",
       "      <td>2010-06-24</td>\n",
       "      <td>162001186</td>\n",
       "      <td>6</td>\n",
       "    </tr>\n",
       "    <tr>\n",
       "      <th>3</th>\n",
       "      <td>How to Train Your Dragon</td>\n",
       "      <td>2010-03-18</td>\n",
       "      <td>216900000</td>\n",
       "      <td>3</td>\n",
       "    </tr>\n",
       "    <tr>\n",
       "      <th>4</th>\n",
       "      <td>Inception</td>\n",
       "      <td>2010-07-08</td>\n",
       "      <td>292568851</td>\n",
       "      <td>7</td>\n",
       "    </tr>\n",
       "  </tbody>\n",
       "</table>\n",
       "</div>"
      ],
      "text/plain": [
       "                      Title Release Date  Box Office  Release Month\n",
       "0  The Amazing Spider-Man 2   2014-04-10   183277573              4\n",
       "1             Despicable Me   2010-06-20   251476985              6\n",
       "2                 Grown Ups   2010-06-24   162001186              6\n",
       "3  How to Train Your Dragon   2010-03-18   216900000              3\n",
       "4                 Inception   2010-07-08   292568851              7"
      ]
     },
     "execution_count": 41,
     "metadata": {},
     "output_type": "execute_result"
    }
   ],
   "source": [
    "# Add column for month of release\n",
    "months = []\n",
    "for date in release['Release Date']:\n",
    "    months.append(date.month)\n",
    "release['Release Month'] = months\n",
    "release.head()\n"
   ]
  },
  {
   "cell_type": "code",
   "execution_count": 42,
   "metadata": {},
   "outputs": [],
   "source": [
    "# Average Box Office per month\n",
    "Jan = release['Box Office'][release['Release Month'] == 1].mean()\n",
    "Feb = release['Box Office'][release['Release Month'] == 2].mean()\n",
    "Mar = release['Box Office'][release['Release Month'] == 3].mean()\n",
    "Apr = release['Box Office'][release['Release Month'] == 4].mean()\n",
    "May = release['Box Office'][release['Release Month'] == 5].mean()\n",
    "Jun = release['Box Office'][release['Release Month'] == 6].mean()\n",
    "Jul = release['Box Office'][release['Release Month'] == 7].mean()\n",
    "Aug = release['Box Office'][release['Release Month'] == 8].mean()\n",
    "Sept = release['Box Office'][release['Release Month'] == 9].mean()\n",
    "Oct = release['Box Office'][release['Release Month'] == 10].mean()\n",
    "Nov = release['Box Office'][release['Release Month'] == 11].mean()\n",
    "Dec = release['Box Office'][release['Release Month'] == 12].mean()"
   ]
  },
  {
   "cell_type": "code",
   "execution_count": 43,
   "metadata": {},
   "outputs": [
    {
     "data": {
      "text/html": [
       "<div>\n",
       "<style scoped>\n",
       "    .dataframe tbody tr th:only-of-type {\n",
       "        vertical-align: middle;\n",
       "    }\n",
       "\n",
       "    .dataframe tbody tr th {\n",
       "        vertical-align: top;\n",
       "    }\n",
       "\n",
       "    .dataframe thead th {\n",
       "        text-align: right;\n",
       "    }\n",
       "</style>\n",
       "<table border=\"1\" class=\"dataframe\">\n",
       "  <thead>\n",
       "    <tr style=\"text-align: right;\">\n",
       "      <th></th>\n",
       "      <th>Month</th>\n",
       "      <th>Average Box Office (millions)</th>\n",
       "    </tr>\n",
       "  </thead>\n",
       "  <tbody>\n",
       "    <tr>\n",
       "      <th>0</th>\n",
       "      <td>Jan</td>\n",
       "      <td>21.135935</td>\n",
       "    </tr>\n",
       "    <tr>\n",
       "      <th>1</th>\n",
       "      <td>Feb</td>\n",
       "      <td>63.600268</td>\n",
       "    </tr>\n",
       "    <tr>\n",
       "      <th>2</th>\n",
       "      <td>Mar</td>\n",
       "      <td>54.834767</td>\n",
       "    </tr>\n",
       "    <tr>\n",
       "      <th>3</th>\n",
       "      <td>Apr</td>\n",
       "      <td>74.316960</td>\n",
       "    </tr>\n",
       "    <tr>\n",
       "      <th>4</th>\n",
       "      <td>May</td>\n",
       "      <td>60.912100</td>\n",
       "    </tr>\n",
       "    <tr>\n",
       "      <th>5</th>\n",
       "      <td>Jun</td>\n",
       "      <td>111.011569</td>\n",
       "    </tr>\n",
       "    <tr>\n",
       "      <th>6</th>\n",
       "      <td>Jul</td>\n",
       "      <td>93.221184</td>\n",
       "    </tr>\n",
       "    <tr>\n",
       "      <th>7</th>\n",
       "      <td>Aug</td>\n",
       "      <td>44.072004</td>\n",
       "    </tr>\n",
       "    <tr>\n",
       "      <th>8</th>\n",
       "      <td>Sept</td>\n",
       "      <td>23.217586</td>\n",
       "    </tr>\n",
       "    <tr>\n",
       "      <th>9</th>\n",
       "      <td>Oct</td>\n",
       "      <td>65.371941</td>\n",
       "    </tr>\n",
       "    <tr>\n",
       "      <th>10</th>\n",
       "      <td>Nov</td>\n",
       "      <td>83.642154</td>\n",
       "    </tr>\n",
       "    <tr>\n",
       "      <th>11</th>\n",
       "      <td>Dec</td>\n",
       "      <td>100.694448</td>\n",
       "    </tr>\n",
       "  </tbody>\n",
       "</table>\n",
       "</div>"
      ],
      "text/plain": [
       "   Month  Average Box Office (millions)\n",
       "0    Jan                      21.135935\n",
       "1    Feb                      63.600268\n",
       "2    Mar                      54.834767\n",
       "3    Apr                      74.316960\n",
       "4    May                      60.912100\n",
       "5    Jun                     111.011569\n",
       "6    Jul                      93.221184\n",
       "7    Aug                      44.072004\n",
       "8   Sept                      23.217586\n",
       "9    Oct                      65.371941\n",
       "10   Nov                      83.642154\n",
       "11   Dec                     100.694448"
      ]
     },
     "execution_count": 43,
     "metadata": {},
     "output_type": "execute_result"
    }
   ],
   "source": [
    "# df for x and y\n",
    "release_df = pd.DataFrame({\"Month\":['Jan','Feb','Mar','Apr','May','Jun','Jul','Aug','Sept','Oct','Nov','Dec'],\n",
    "                          \"Average Box Office (millions)\":[Jan,Feb,Mar,Apr,May,Jun,Jul,Aug,Sept,Oct,Nov,Dec]})\n",
    "release_df['Average Box Office (millions)'] = release_df['Average Box Office (millions)']/1000000\n",
    "release_df\n"
   ]
  },
  {
   "cell_type": "code",
   "execution_count": 44,
   "metadata": {},
   "outputs": [
    {
     "data": {
      "image/png": "[encoded data removed]",
      "text/plain": [
       "<Figure size 432x288 with 1 Axes>"
      ]
     },
     "metadata": {
      "needs_background": "light"
     },
     "output_type": "display_data"
    }
   ],
   "source": [
    "# line plot to show box office relation to months\n",
    "plt.plot(release_df['Month'],release_df['Average Box Office (millions)'])\n",
    "plt.xlabel(\"Release Month\")\n",
    "plt.ylabel(\"Average Box Office (Millions)\")\n",
    "plt.title(\"Average Box Office by Month of Release\")\n",
    "\n",
    "# Save image\n",
    "plt.savefig(\"Analysis Charts/4. Release Month/monthly_line.png\")\n",
    "\n",
    "plt.show()"
   ]
  },
  {
   "cell_type": "code",
   "execution_count": 45,
   "metadata": {},
   "outputs": [
    {
     "data": {
      "text/html": [
       "<div>\n",
       "<style scoped>\n",
       "    .dataframe tbody tr th:only-of-type {\n",
       "        vertical-align: middle;\n",
       "    }\n",
       "\n",
       "    .dataframe tbody tr th {\n",
       "        vertical-align: top;\n",
       "    }\n",
       "\n",
       "    .dataframe thead th {\n",
       "        text-align: right;\n",
       "    }\n",
       "</style>\n",
       "<table border=\"1\" class=\"dataframe\">\n",
       "  <thead>\n",
       "    <tr style=\"text-align: right;\">\n",
       "      <th></th>\n",
       "      <th>Month</th>\n",
       "      <th>Average Box Office (millions)</th>\n",
       "    </tr>\n",
       "  </thead>\n",
       "  <tbody>\n",
       "    <tr>\n",
       "      <th>0</th>\n",
       "      <td>Jan</td>\n",
       "      <td>21.135935</td>\n",
       "    </tr>\n",
       "    <tr>\n",
       "      <th>1</th>\n",
       "      <td>Sept</td>\n",
       "      <td>23.217586</td>\n",
       "    </tr>\n",
       "    <tr>\n",
       "      <th>2</th>\n",
       "      <td>Aug</td>\n",
       "      <td>44.072004</td>\n",
       "    </tr>\n",
       "    <tr>\n",
       "      <th>3</th>\n",
       "      <td>Mar</td>\n",
       "      <td>54.834767</td>\n",
       "    </tr>\n",
       "    <tr>\n",
       "      <th>4</th>\n",
       "      <td>May</td>\n",
       "      <td>60.912100</td>\n",
       "    </tr>\n",
       "    <tr>\n",
       "      <th>5</th>\n",
       "      <td>Feb</td>\n",
       "      <td>63.600268</td>\n",
       "    </tr>\n",
       "    <tr>\n",
       "      <th>6</th>\n",
       "      <td>Oct</td>\n",
       "      <td>65.371941</td>\n",
       "    </tr>\n",
       "    <tr>\n",
       "      <th>7</th>\n",
       "      <td>Apr</td>\n",
       "      <td>74.316960</td>\n",
       "    </tr>\n",
       "    <tr>\n",
       "      <th>8</th>\n",
       "      <td>Nov</td>\n",
       "      <td>83.642154</td>\n",
       "    </tr>\n",
       "    <tr>\n",
       "      <th>9</th>\n",
       "      <td>Jul</td>\n",
       "      <td>93.221184</td>\n",
       "    </tr>\n",
       "    <tr>\n",
       "      <th>10</th>\n",
       "      <td>Dec</td>\n",
       "      <td>100.694448</td>\n",
       "    </tr>\n",
       "    <tr>\n",
       "      <th>11</th>\n",
       "      <td>Jun</td>\n",
       "      <td>111.011569</td>\n",
       "    </tr>\n",
       "  </tbody>\n",
       "</table>\n",
       "</div>"
      ],
      "text/plain": [
       "   Month  Average Box Office (millions)\n",
       "0    Jan                      21.135935\n",
       "1   Sept                      23.217586\n",
       "2    Aug                      44.072004\n",
       "3    Mar                      54.834767\n",
       "4    May                      60.912100\n",
       "5    Feb                      63.600268\n",
       "6    Oct                      65.371941\n",
       "7    Apr                      74.316960\n",
       "8    Nov                      83.642154\n",
       "9    Jul                      93.221184\n",
       "10   Dec                     100.694448\n",
       "11   Jun                     111.011569"
      ]
     },
     "execution_count": 45,
     "metadata": {},
     "output_type": "execute_result"
    }
   ],
   "source": [
    "# sort data\n",
    "sorted(release_df['Average Box Office (millions)'])\n",
    "\n",
    "sorted_release = pd.DataFrame({'Month':['Jan', 'Sept', 'Aug', 'Mar', 'May', 'Feb', 'Oct', 'Apr', 'Nov', 'Jul', 'Dec', 'Jun'],\n",
    "                               'Average Box Office (millions)':sorted(release_df['Average Box Office (millions)'])\n",
    "                              })\n",
    "sorted_release"
   ]
  },
  {
   "cell_type": "code",
   "execution_count": 46,
   "metadata": {},
   "outputs": [
    {
     "data": {
      "image/png": "[encoded data removed]",
      "text/plain": [
       "<Figure size 432x288 with 1 Axes>"
      ]
     },
     "metadata": {},
     "output_type": "display_data"
    }
   ],
   "source": [
    "# pie chart percentage per month\n",
    "plt.pie(sorted_release['Average Box Office (millions)'],labels=sorted_release['Month'],autopct=\"%1.1f%%\",startangle=180)\n",
    "\n",
    "# Save image\n",
    "plt.savefig(\"Analysis Charts/4. Release Month/monthly_pie.png\")\n",
    "\n",
    "plt.show()"
   ]
  },
  {
   "cell_type": "code",
   "execution_count": 47,
   "metadata": {},
   "outputs": [],
   "source": [
    "# pie chart by quarter\n",
    "q1 = release_df['Average Box Office (millions)'][0:2].sum()\n",
    "q2 = release_df['Average Box Office (millions)'][3:5].sum()\n",
    "q3 = release_df['Average Box Office (millions)'][6:8].sum()\n",
    "q4 = release_df['Average Box Office (millions)'][9:11].sum()\n",
    "labels = ['Q1','Q2','Q3','Q4']\n",
    "size = [q1, q2, q3, q4]"
   ]
  },
  {
   "cell_type": "code",
   "execution_count": 48,
   "metadata": {},
   "outputs": [
    {
     "data": {
      "image/png": "[encoded data removed]",
      "text/plain": [
       "<Figure size 432x288 with 1 Axes>"
      ]
     },
     "metadata": {},
     "output_type": "display_data"
    }
   ],
   "source": [
    "plt.pie(size,labels=labels,autopct=\"%1.1f%%\",startangle=180)\n",
    "plt.title(\"Percent of Box Office by Quarter\")\n",
    "\n",
    "# Save image\n",
    "plt.savefig(\"Analysis Charts/4. Release Month/quarterly_pie.png\")\n",
    "\n",
    "plt.show()"
   ]
  },
  {
   "cell_type": "code",
   "execution_count": 49,
   "metadata": {},
   "outputs": [],
   "source": [
    "# Pie chart by Season\n",
    "summer = release_df['Average Box Office (millions)'][5:7].sum()\n",
    "fall = release_df['Average Box Office (millions)'][8:10].sum()\n",
    "winter = release_df['Average Box Office (millions)'][0:1].sum()\n",
    "winter = winter + release_df['Average Box Office (millions)'][11].sum()\n",
    "spring = release_df['Average Box Office (millions)'][2:4].sum()\n",
    "\n",
    "labels = ['Summer','Fall','Winter','Spring']\n",
    "size = [summer, fall, winter, spring]"
   ]
  },
  {
   "cell_type": "code",
   "execution_count": 50,
   "metadata": {},
   "outputs": [
    {
     "data": {
      "image/png": "[encoded data removed]",
      "text/plain": [
       "<Figure size 432x288 with 1 Axes>"
      ]
     },
     "metadata": {},
     "output_type": "display_data"
    }
   ],
   "source": [
    "plt.pie(size,labels=labels,autopct=\"%1.1f%%\",startangle=180)\n",
    "plt.title(\"Percent of Box Office by Season\")\n",
    "\n",
    "# Save image\n",
    "plt.savefig(\"Analysis Charts/4. Release Month/season_pie.png\")\n",
    "\n",
    "plt.show()"
   ]
  },
  {
   "cell_type": "code",
   "execution_count": 51,
   "metadata": {},
   "outputs": [
    {
     "name": "stderr",
     "output_type": "stream",
     "text": [
      "C:\\ProgramData\\Anaconda3\\lib\\site-packages\\ipykernel_launcher.py:3: SettingWithCopyWarning: \n",
      "A value is trying to be set on a copy of a slice from a DataFrame.\n",
      "Try using .loc[row_indexer,col_indexer] = value instead\n",
      "\n",
      "See the caveats in the documentation: http://pandas.pydata.org/pandas-docs/stable/indexing.html#indexing-view-versus-copy\n",
      "  This is separate from the ipykernel package so we can avoid doing imports until\n"
     ]
    },
    {
     "data": {
      "text/html": [
       "<div>\n",
       "<style scoped>\n",
       "    .dataframe tbody tr th:only-of-type {\n",
       "        vertical-align: middle;\n",
       "    }\n",
       "\n",
       "    .dataframe tbody tr th {\n",
       "        vertical-align: top;\n",
       "    }\n",
       "\n",
       "    .dataframe thead th {\n",
       "        text-align: right;\n",
       "    }\n",
       "</style>\n",
       "<table border=\"1\" class=\"dataframe\">\n",
       "  <thead>\n",
       "    <tr style=\"text-align: right;\">\n",
       "      <th></th>\n",
       "      <th>Box Office</th>\n",
       "      <th>Release Month</th>\n",
       "    </tr>\n",
       "  </thead>\n",
       "  <tbody>\n",
       "    <tr>\n",
       "      <th>0</th>\n",
       "      <td>183.277573</td>\n",
       "      <td>4</td>\n",
       "    </tr>\n",
       "    <tr>\n",
       "      <th>1</th>\n",
       "      <td>251.476985</td>\n",
       "      <td>6</td>\n",
       "    </tr>\n",
       "    <tr>\n",
       "      <th>2</th>\n",
       "      <td>162.001186</td>\n",
       "      <td>6</td>\n",
       "    </tr>\n",
       "    <tr>\n",
       "      <th>3</th>\n",
       "      <td>216.900000</td>\n",
       "      <td>3</td>\n",
       "    </tr>\n",
       "    <tr>\n",
       "      <th>4</th>\n",
       "      <td>292.568851</td>\n",
       "      <td>7</td>\n",
       "    </tr>\n",
       "  </tbody>\n",
       "</table>\n",
       "</div>"
      ],
      "text/plain": [
       "   Box Office  Release Month\n",
       "0  183.277573              4\n",
       "1  251.476985              6\n",
       "2  162.001186              6\n",
       "3  216.900000              3\n",
       "4  292.568851              7"
      ]
     },
     "execution_count": 51,
     "metadata": {},
     "output_type": "execute_result"
    }
   ],
   "source": [
    "# box plot\n",
    "box = release[['Box Office','Release Month']]\n",
    "box['Box Office'] = box['Box Office']/1000000\n",
    "box.head()"
   ]
  },
  {
   "cell_type": "code",
   "execution_count": 52,
   "metadata": {},
   "outputs": [
    {
     "data": {
      "image/png": "[encoded data removed]",
      "text/plain": [
       "<Figure size 1440x720 with 1 Axes>"
      ]
     },
     "metadata": {
      "needs_background": "light"
     },
     "output_type": "display_data"
    }
   ],
   "source": [
    "box.boxplot(\"Box Office\", by=\"Release Month\", figsize=(20, 10),showmeans=True)\n",
    "plt.ylim(-20, 450)\n",
    "\n",
    "# Save image\n",
    "plt.savefig(\"Analysis Charts/4. Release Month/monthly_box.png\")\n",
    "\n",
    "plt.show()"
   ]
  },
  {
   "cell_type": "code",
   "execution_count": 53,
   "metadata": {},
   "outputs": [
    {
     "data": {
      "text/plain": [
       "F_onewayResult(statistic=10.874730742925472, pvalue=3.6178800066850965e-19)"
      ]
     },
     "execution_count": 53,
     "metadata": {},
     "output_type": "execute_result"
    }
   ],
   "source": [
    "# ANOVA test\n",
    "Jan = release['Box Office'][release['Release Month'] == 1]\n",
    "Feb = release['Box Office'][release['Release Month'] == 2]\n",
    "Mar = release['Box Office'][release['Release Month'] == 3]\n",
    "Apr = release['Box Office'][release['Release Month'] == 4]\n",
    "May = release['Box Office'][release['Release Month'] == 5]\n",
    "Jun = release['Box Office'][release['Release Month'] == 6]\n",
    "Jul = release['Box Office'][release['Release Month'] == 7]\n",
    "Aug = release['Box Office'][release['Release Month'] == 8]\n",
    "Sept = release['Box Office'][release['Release Month'] == 9]\n",
    "Oct = release['Box Office'][release['Release Month'] == 10]\n",
    "Nov = release['Box Office'][release['Release Month'] == 11]\n",
    "Dec = release['Box Office'][release['Release Month'] == 12]\n",
    "\n",
    "\n",
    "stats.f_oneway(Jan,Feb,Mar,Apr,May,Jun,Jul,Aug,Sept,Oct,Nov,Dec)"
   ]
  },
  {
   "cell_type": "markdown",
   "metadata": {},
   "source": [
    "# Observation\n",
    "\n",
    "* Box Office earnings peak in the Summer as well as the holiday season. \n",
    "\n",
    "* 48.7% of Box Office earnings are from 4 months (June, July, November, December) in these peak times.\n",
    "\n",
    "* Box Office earnings dip in the few months after each of these peak seasons, like in January and September.\n",
    "\n",
    "* Quarter 1 is the slowest, only representing 16.7% of yearly Box Office earnings.\n",
    "\n",
    "* The other quarters have their own slow months as well, but the peak months within them keep their earning up.\n",
    "\n",
    "* After doing an ANOVA test, the pvalue is less than 0.05 so, this test is significant.\n",
    "\n"
   ]
  },
  {
   "cell_type": "markdown",
   "metadata": {},
   "source": [
    "# ------------------------------------------------------------------------------"
   ]
  },
  {
   "cell_type": "markdown",
   "metadata": {},
   "source": [
    "# 5. Does runtime have an affect the box office results?\n",
    "\n",
    "We want to see whether runtime significantly effects box office results and whether there is a point where the movies runtime starts to negatively effect the box office results.\n",
    "\n",
    "This will allow us to determine the optimal runtime to maximize the box office return.\n"
   ]
  },
  {
   "cell_type": "code",
   "execution_count": 54,
   "metadata": {},
   "outputs": [
    {
     "data": {
      "text/html": [
       "<div>\n",
       "<style scoped>\n",
       "    .dataframe tbody tr th:only-of-type {\n",
       "        vertical-align: middle;\n",
       "    }\n",
       "\n",
       "    .dataframe tbody tr th {\n",
       "        vertical-align: top;\n",
       "    }\n",
       "\n",
       "    .dataframe thead th {\n",
       "        text-align: right;\n",
       "    }\n",
       "</style>\n",
       "<table border=\"1\" class=\"dataframe\">\n",
       "  <thead>\n",
       "    <tr style=\"text-align: right;\">\n",
       "      <th></th>\n",
       "      <th>IMDb ID</th>\n",
       "      <th>Title</th>\n",
       "      <th>Runtime (mins)</th>\n",
       "      <th>Year</th>\n",
       "      <th>Genres</th>\n",
       "      <th>Release Date</th>\n",
       "      <th>IMDb Rating</th>\n",
       "      <th>Metascore</th>\n",
       "      <th>Rating</th>\n",
       "      <th>Box Office</th>\n",
       "    </tr>\n",
       "  </thead>\n",
       "  <tbody>\n",
       "    <tr>\n",
       "      <th>0</th>\n",
       "      <td>tt1872181</td>\n",
       "      <td>The Amazing Spider-Man 2</td>\n",
       "      <td>142</td>\n",
       "      <td>2014</td>\n",
       "      <td>Action, Adventure, Sci-Fi</td>\n",
       "      <td>4/10/2014</td>\n",
       "      <td>6.6</td>\n",
       "      <td>53</td>\n",
       "      <td>PG-13</td>\n",
       "      <td>183277573</td>\n",
       "    </tr>\n",
       "    <tr>\n",
       "      <th>1</th>\n",
       "      <td>tt1323594</td>\n",
       "      <td>Despicable Me</td>\n",
       "      <td>95</td>\n",
       "      <td>2010</td>\n",
       "      <td>Animation, Comedy, Family, Fantasy</td>\n",
       "      <td>6/20/2010</td>\n",
       "      <td>7.7</td>\n",
       "      <td>72</td>\n",
       "      <td>PG</td>\n",
       "      <td>251476985</td>\n",
       "    </tr>\n",
       "    <tr>\n",
       "      <th>2</th>\n",
       "      <td>tt1375670</td>\n",
       "      <td>Grown Ups</td>\n",
       "      <td>102</td>\n",
       "      <td>2010</td>\n",
       "      <td>Comedy</td>\n",
       "      <td>6/24/2010</td>\n",
       "      <td>6.0</td>\n",
       "      <td>30</td>\n",
       "      <td>PG-13</td>\n",
       "      <td>162001186</td>\n",
       "    </tr>\n",
       "    <tr>\n",
       "      <th>3</th>\n",
       "      <td>tt0892769</td>\n",
       "      <td>How to Train Your Dragon</td>\n",
       "      <td>98</td>\n",
       "      <td>2010</td>\n",
       "      <td>Animation, Action, Adventure, Family, Fantasy</td>\n",
       "      <td>3/18/2010</td>\n",
       "      <td>8.1</td>\n",
       "      <td>74</td>\n",
       "      <td>PG</td>\n",
       "      <td>216900000</td>\n",
       "    </tr>\n",
       "    <tr>\n",
       "      <th>4</th>\n",
       "      <td>tt1375666</td>\n",
       "      <td>Inception</td>\n",
       "      <td>148</td>\n",
       "      <td>2010</td>\n",
       "      <td>Action, Adventure, Sci-Fi, Thriller</td>\n",
       "      <td>7/8/2010</td>\n",
       "      <td>8.8</td>\n",
       "      <td>74</td>\n",
       "      <td>PG-13</td>\n",
       "      <td>292568851</td>\n",
       "    </tr>\n",
       "  </tbody>\n",
       "</table>\n",
       "</div>"
      ],
      "text/plain": [
       "     IMDb ID                     Title  Runtime (mins)  Year  \\\n",
       "0  tt1872181  The Amazing Spider-Man 2             142  2014   \n",
       "1  tt1323594             Despicable Me              95  2010   \n",
       "2  tt1375670                 Grown Ups             102  2010   \n",
       "3  tt0892769  How to Train Your Dragon              98  2010   \n",
       "4  tt1375666                 Inception             148  2010   \n",
       "\n",
       "                                          Genres Release Date  IMDb Rating  \\\n",
       "0                      Action, Adventure, Sci-Fi    4/10/2014          6.6   \n",
       "1             Animation, Comedy, Family, Fantasy    6/20/2010          7.7   \n",
       "2                                         Comedy    6/24/2010          6.0   \n",
       "3  Animation, Action, Adventure, Family, Fantasy    3/18/2010          8.1   \n",
       "4            Action, Adventure, Sci-Fi, Thriller     7/8/2010          8.8   \n",
       "\n",
       "   Metascore Rating  Box Office  \n",
       "0         53  PG-13   183277573  \n",
       "1         72     PG   251476985  \n",
       "2         30  PG-13   162001186  \n",
       "3         74     PG   216900000  \n",
       "4         74  PG-13   292568851  "
      ]
     },
     "execution_count": 54,
     "metadata": {},
     "output_type": "execute_result"
    }
   ],
   "source": [
    "#Read csv with proper encoding\n",
    "path = \"Movie_Data.csv\"\n",
    "movies_runtime = pd.read_csv(path, encoding='latin1')\n",
    "movies_runtime.head()"
   ]
  },
  {
   "cell_type": "code",
   "execution_count": 55,
   "metadata": {},
   "outputs": [
    {
     "data": {
      "image/png": "[encoded data removed]",
      "text/plain": [
       "<Figure size 720x360 with 1 Axes>"
      ]
     },
     "metadata": {
      "needs_background": "light"
     },
     "output_type": "display_data"
    }
   ],
   "source": [
    "# Create a scatterplot for Runtime vs Box Office\n",
    "plt.figure(figsize=(10,5))\n",
    "plt.scatter((movies_runtime[\"Runtime (mins)\"]), movies_runtime[\"Box Office\"], \n",
    "            marker = \"o\", color =\"orange\", alpha = 0.7, edgecolor =\"black\")\n",
    "plt.title(\"Runtime (min) vs. Box Office\")\n",
    "plt.xlabel(\"Runtime (min)\")\n",
    "plt.ylabel(\"Box Office ($)\")\n",
    "plt.xlim(50, 200)\n",
    "plt.ylim(0, 1000000000)\n",
    "plt.grid(True)\n",
    "plt.legend()\n",
    "plt.savefig(\"Analysis Charts/5. Runtime/Runtime_vs_Box_Office_scatter.png\")\n",
    "plt.show()"
   ]
  },
  {
   "cell_type": "markdown",
   "metadata": {},
   "source": [
    "## Observations\n",
    "\n",
    "From the scatter plot, it can be determined that a large number of movies make less than $100 millions with runtimes ranging from 80 minutes to 180 minutes. This shows that a majority of movies fail to produce at the box office no matter what the runtimes are. However, it does appear that there is a weak correlation between runtime and box office given that the plot shows that as runtime increases, box office results increases as well. This will be further investigated below."
   ]
  },
  {
   "cell_type": "code",
   "execution_count": 56,
   "metadata": {},
   "outputs": [
    {
     "data": {
      "image/png": "[encoded data removed]",
      "text/plain": [
       "<Figure size 720x360 with 1 Axes>"
      ]
     },
     "metadata": {
      "needs_background": "light"
     },
     "output_type": "display_data"
    }
   ],
   "source": [
    "# Linear Regression\n",
    "x = np.arange(1, 200, 1)\n",
    "regress_runtime = stats.linregress(movies_runtime['Runtime (mins)'], movies_runtime['Box Office'])\n",
    "plt.figure(figsize=(10,5))\n",
    "plt.scatter((movies_runtime[\"Runtime (mins)\"]), movies_runtime[\"Box Office\"], \n",
    "            marker = \"o\", color =\"orange\", alpha = 0.7, edgecolor =\"black\")\n",
    "plt.title(\"Runtime (min) vs. Box Office\")\n",
    "plt.xlabel(\"Runtime (min)\")\n",
    "plt.ylabel(\"Box Office ($)\")\n",
    "plt.xlim(50, 200)\n",
    "plt.ylim(0, 1000000000)\n",
    "plt.grid(True)\n",
    "plt.text(60, -2 * 100000000, 'P-Value= ' + str(regress_runtime[3]) + '  Coeficient= ' + \"{:,.2f}\".format(regress_runtime[0]) + '  Intercept ' + \"{:,.2f}\".format(regress_runtime[1]))\n",
    "plt.legend()\n",
    "plt.plot(x, x * regress_runtime[0] + regress_runtime[1])\n",
    "\n",
    "\n",
    "plt.savefig(\"Analysis Charts/5. Runtime/Runtime_vs_Box_Office_scatter_regression.png\")\n",
    "plt.show()"
   ]
  },
  {
   "cell_type": "markdown",
   "metadata": {},
   "source": [
    "## Observations\n",
    "\n",
    "From looking at the scatter plot earlier, it was determined that it appeared that there was some correlation between runtime and box office. After running a simple linear regression and calculating a p-value of 1.81 e-38, it can be concluded that there is a relationship and that box office results increase as runtime increases. This conclusion has to have limits since there has to be a point that the movie would be too long for movie viewers to sit through, an observation on runtimes versus the average box office was done below."
   ]
  },
  {
   "cell_type": "code",
   "execution_count": 57,
   "metadata": {},
   "outputs": [],
   "source": [
    "# Create bar chart with ranges of runtimes vs Box Office\n",
    "bins = [0, 80, 100, 120, 140, 160, 180, 200]\n",
    "\n",
    "# Create names for the bins\n",
    "group_names = [\" <80\", \"80-99\", \"100-119\", \"120-139\", \"140-159\", \"160-179\", \"180+\" ]\n",
    "\n",
    "# Create a DataFrame\n",
    "movies_runtime[\"Runtime (mins)\"] = pd.cut(movies_runtime[\"Runtime (mins)\"], bins, labels = group_names)\n",
    "movies_runtime_groupby = movies_runtime[\"Runtime (mins)\"]\n",
    "\n",
    "# Create a DataFrame to specific format for bar chart. \n",
    "movies_runtime_groupby_df = pd.DataFrame(movies_runtime_groupby)\n",
    "movies_runtime_join_df = movies_runtime_groupby_df.merge(movies_runtime, on='Runtime (mins)', how='right')\n",
    "movies_runtime_join_df.drop_duplicates(subset=None, keep=\"first\", inplace=True)\n",
    "movies_runtime_final_df = movies_runtime_join_df[[\"Runtime (mins)\", \"Box Office\"]]\n",
    "groupby_run = movies_runtime_final_df[\"Box Office\"].groupby(movies_runtime_final_df[\"Runtime (mins)\"])\n",
    "movies_runtime_mean_df = pd.DataFrame(groupby_run.mean())\n",
    "movies_runtime_mean_df = movies_runtime_mean_df.reset_index()"
   ]
  },
  {
   "cell_type": "code",
   "execution_count": 58,
   "metadata": {},
   "outputs": [
    {
     "data": {
      "image/png": "[encoded data removed]",
      "text/plain": [
       "<Figure size 720x360 with 1 Axes>"
      ]
     },
     "metadata": {
      "needs_background": "light"
     },
     "output_type": "display_data"
    }
   ],
   "source": [
    "# Bar chart\n",
    "plt.figure(figsize=(10,5))\n",
    "color=['tomato', 'cadetblue', 'darkorange','grey','dodgerblue','orchid', 'forestgreen']\n",
    "plt.bar(movies_runtime_mean_df[\"Runtime (mins)\"], movies_runtime_mean_df[\"Box Office\"], \n",
    "        color = color, alpha = 0.5, align = \"center\")\n",
    "plt.title(\"Runtime (min) vs. Average Box Office\")\n",
    "plt.xlabel(\"Runtime (min)\")\n",
    "plt.ylabel(\"Average Box Office ($)\")\n",
    "plt.savefig(\"Analysis Charts/5. Runtime/Runtime_vs_Box_Office_Bar.png\")\n",
    "plt.show()"
   ]
  },
  {
   "cell_type": "markdown",
   "metadata": {},
   "source": [
    "## Observations\n",
    "\n",
    "The conclusion from the scatter plot and regression analysis showed that the box office results will increase with runtime. However, it did not specify when that relationship would breakdown. From the bar graph, the runtime that produced the highest average box office results were between 140-159 minutes. This appears to be the point where the runtime will adversely effect the box office results. The ideal runtime to maximize box office returns would therefore be between 140-159 minutes in length. "
   ]
  },
  {
   "cell_type": "code",
   "execution_count": null,
   "metadata": {},
   "outputs": [],
   "source": []
  }
 ],
 "metadata": {
  "kernelspec": {
   "display_name": "Python 3",
   "language": "python",
   "name": "python3"
  },
  "language_info": {
   "codemirror_mode": {
    "name": "ipython",
    "version": 3
   },
   "file_extension": ".py",
   "mimetype": "text/x-python",
   "name": "python",
   "nbconvert_exporter": "python",
   "pygments_lexer": "ipython3",
   "version": "3.7.1"
  }
 },
 "nbformat": 4,
 "nbformat_minor": 2
}
